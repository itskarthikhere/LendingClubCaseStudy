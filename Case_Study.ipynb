{
  "nbformat": 4,
  "nbformat_minor": 0,
  "metadata": {
    "colab": {
      "name": "Case_Study.ipynb",
      "provenance": []
    },
    "kernelspec": {
      "name": "python3",
      "display_name": "Python 3"
    },
    "language_info": {
      "name": "python"
    }
  },
  "cells": [
    {
      "cell_type": "code",
      "execution_count": 1,
      "metadata": {
        "id": "Lhj6TBCy9Mo9"
      },
      "outputs": [],
      "source": [
        "import pandas as pd\n",
        "import numpy as np\n",
        "import seaborn as sns\n",
        "from pandas_profiling import ProfileReport\n",
        "from matplotlib import pyplot"
      ]
    },
    {
      "cell_type": "code",
      "source": [
        "df = pd.read_csv(r\"/content/loan.csv\")\n",
        "df.head()"
      ],
      "metadata": {
        "colab": {
          "base_uri": "https://localhost:8080/",
          "height": 421
        },
        "id": "e0mgAhnw9lNt",
        "outputId": "76763a7f-69b4-4aa0-c792-47526f584151"
      },
      "execution_count": 2,
      "outputs": [
        {
          "output_type": "stream",
          "name": "stderr",
          "text": [
            "/usr/local/lib/python3.7/dist-packages/IPython/core/interactiveshell.py:2882: DtypeWarning: Columns (47) have mixed types.Specify dtype option on import or set low_memory=False.\n",
            "  exec(code_obj, self.user_global_ns, self.user_ns)\n"
          ]
        },
        {
          "output_type": "execute_result",
          "data": {
            "text/html": [
              "\n",
              "  <div id=\"df-3e800a04-c152-4804-bbd8-e6b3a23d4749\">\n",
              "    <div class=\"colab-df-container\">\n",
              "      <div>\n",
              "<style scoped>\n",
              "    .dataframe tbody tr th:only-of-type {\n",
              "        vertical-align: middle;\n",
              "    }\n",
              "\n",
              "    .dataframe tbody tr th {\n",
              "        vertical-align: top;\n",
              "    }\n",
              "\n",
              "    .dataframe thead th {\n",
              "        text-align: right;\n",
              "    }\n",
              "</style>\n",
              "<table border=\"1\" class=\"dataframe\">\n",
              "  <thead>\n",
              "    <tr style=\"text-align: right;\">\n",
              "      <th></th>\n",
              "      <th>id</th>\n",
              "      <th>member_id</th>\n",
              "      <th>loan_amnt</th>\n",
              "      <th>funded_amnt</th>\n",
              "      <th>funded_amnt_inv</th>\n",
              "      <th>term</th>\n",
              "      <th>int_rate</th>\n",
              "      <th>installment</th>\n",
              "      <th>grade</th>\n",
              "      <th>sub_grade</th>\n",
              "      <th>...</th>\n",
              "      <th>num_tl_90g_dpd_24m</th>\n",
              "      <th>num_tl_op_past_12m</th>\n",
              "      <th>pct_tl_nvr_dlq</th>\n",
              "      <th>percent_bc_gt_75</th>\n",
              "      <th>pub_rec_bankruptcies</th>\n",
              "      <th>tax_liens</th>\n",
              "      <th>tot_hi_cred_lim</th>\n",
              "      <th>total_bal_ex_mort</th>\n",
              "      <th>total_bc_limit</th>\n",
              "      <th>total_il_high_credit_limit</th>\n",
              "    </tr>\n",
              "  </thead>\n",
              "  <tbody>\n",
              "    <tr>\n",
              "      <th>0</th>\n",
              "      <td>1077501</td>\n",
              "      <td>1296599</td>\n",
              "      <td>5000</td>\n",
              "      <td>5000</td>\n",
              "      <td>4975.0</td>\n",
              "      <td>36 months</td>\n",
              "      <td>10.65%</td>\n",
              "      <td>162.87</td>\n",
              "      <td>B</td>\n",
              "      <td>B2</td>\n",
              "      <td>...</td>\n",
              "      <td>NaN</td>\n",
              "      <td>NaN</td>\n",
              "      <td>NaN</td>\n",
              "      <td>NaN</td>\n",
              "      <td>0.0</td>\n",
              "      <td>0.0</td>\n",
              "      <td>NaN</td>\n",
              "      <td>NaN</td>\n",
              "      <td>NaN</td>\n",
              "      <td>NaN</td>\n",
              "    </tr>\n",
              "    <tr>\n",
              "      <th>1</th>\n",
              "      <td>1077430</td>\n",
              "      <td>1314167</td>\n",
              "      <td>2500</td>\n",
              "      <td>2500</td>\n",
              "      <td>2500.0</td>\n",
              "      <td>60 months</td>\n",
              "      <td>15.27%</td>\n",
              "      <td>59.83</td>\n",
              "      <td>C</td>\n",
              "      <td>C4</td>\n",
              "      <td>...</td>\n",
              "      <td>NaN</td>\n",
              "      <td>NaN</td>\n",
              "      <td>NaN</td>\n",
              "      <td>NaN</td>\n",
              "      <td>0.0</td>\n",
              "      <td>0.0</td>\n",
              "      <td>NaN</td>\n",
              "      <td>NaN</td>\n",
              "      <td>NaN</td>\n",
              "      <td>NaN</td>\n",
              "    </tr>\n",
              "    <tr>\n",
              "      <th>2</th>\n",
              "      <td>1077175</td>\n",
              "      <td>1313524</td>\n",
              "      <td>2400</td>\n",
              "      <td>2400</td>\n",
              "      <td>2400.0</td>\n",
              "      <td>36 months</td>\n",
              "      <td>15.96%</td>\n",
              "      <td>84.33</td>\n",
              "      <td>C</td>\n",
              "      <td>C5</td>\n",
              "      <td>...</td>\n",
              "      <td>NaN</td>\n",
              "      <td>NaN</td>\n",
              "      <td>NaN</td>\n",
              "      <td>NaN</td>\n",
              "      <td>0.0</td>\n",
              "      <td>0.0</td>\n",
              "      <td>NaN</td>\n",
              "      <td>NaN</td>\n",
              "      <td>NaN</td>\n",
              "      <td>NaN</td>\n",
              "    </tr>\n",
              "    <tr>\n",
              "      <th>3</th>\n",
              "      <td>1076863</td>\n",
              "      <td>1277178</td>\n",
              "      <td>10000</td>\n",
              "      <td>10000</td>\n",
              "      <td>10000.0</td>\n",
              "      <td>36 months</td>\n",
              "      <td>13.49%</td>\n",
              "      <td>339.31</td>\n",
              "      <td>C</td>\n",
              "      <td>C1</td>\n",
              "      <td>...</td>\n",
              "      <td>NaN</td>\n",
              "      <td>NaN</td>\n",
              "      <td>NaN</td>\n",
              "      <td>NaN</td>\n",
              "      <td>0.0</td>\n",
              "      <td>0.0</td>\n",
              "      <td>NaN</td>\n",
              "      <td>NaN</td>\n",
              "      <td>NaN</td>\n",
              "      <td>NaN</td>\n",
              "    </tr>\n",
              "    <tr>\n",
              "      <th>4</th>\n",
              "      <td>1075358</td>\n",
              "      <td>1311748</td>\n",
              "      <td>3000</td>\n",
              "      <td>3000</td>\n",
              "      <td>3000.0</td>\n",
              "      <td>60 months</td>\n",
              "      <td>12.69%</td>\n",
              "      <td>67.79</td>\n",
              "      <td>B</td>\n",
              "      <td>B5</td>\n",
              "      <td>...</td>\n",
              "      <td>NaN</td>\n",
              "      <td>NaN</td>\n",
              "      <td>NaN</td>\n",
              "      <td>NaN</td>\n",
              "      <td>0.0</td>\n",
              "      <td>0.0</td>\n",
              "      <td>NaN</td>\n",
              "      <td>NaN</td>\n",
              "      <td>NaN</td>\n",
              "      <td>NaN</td>\n",
              "    </tr>\n",
              "  </tbody>\n",
              "</table>\n",
              "<p>5 rows × 111 columns</p>\n",
              "</div>\n",
              "      <button class=\"colab-df-convert\" onclick=\"convertToInteractive('df-3e800a04-c152-4804-bbd8-e6b3a23d4749')\"\n",
              "              title=\"Convert this dataframe to an interactive table.\"\n",
              "              style=\"display:none;\">\n",
              "        \n",
              "  <svg xmlns=\"http://www.w3.org/2000/svg\" height=\"24px\"viewBox=\"0 0 24 24\"\n",
              "       width=\"24px\">\n",
              "    <path d=\"M0 0h24v24H0V0z\" fill=\"none\"/>\n",
              "    <path d=\"M18.56 5.44l.94 2.06.94-2.06 2.06-.94-2.06-.94-.94-2.06-.94 2.06-2.06.94zm-11 1L8.5 8.5l.94-2.06 2.06-.94-2.06-.94L8.5 2.5l-.94 2.06-2.06.94zm10 10l.94 2.06.94-2.06 2.06-.94-2.06-.94-.94-2.06-.94 2.06-2.06.94z\"/><path d=\"M17.41 7.96l-1.37-1.37c-.4-.4-.92-.59-1.43-.59-.52 0-1.04.2-1.43.59L10.3 9.45l-7.72 7.72c-.78.78-.78 2.05 0 2.83L4 21.41c.39.39.9.59 1.41.59.51 0 1.02-.2 1.41-.59l7.78-7.78 2.81-2.81c.8-.78.8-2.07 0-2.86zM5.41 20L4 18.59l7.72-7.72 1.47 1.35L5.41 20z\"/>\n",
              "  </svg>\n",
              "      </button>\n",
              "      \n",
              "  <style>\n",
              "    .colab-df-container {\n",
              "      display:flex;\n",
              "      flex-wrap:wrap;\n",
              "      gap: 12px;\n",
              "    }\n",
              "\n",
              "    .colab-df-convert {\n",
              "      background-color: #E8F0FE;\n",
              "      border: none;\n",
              "      border-radius: 50%;\n",
              "      cursor: pointer;\n",
              "      display: none;\n",
              "      fill: #1967D2;\n",
              "      height: 32px;\n",
              "      padding: 0 0 0 0;\n",
              "      width: 32px;\n",
              "    }\n",
              "\n",
              "    .colab-df-convert:hover {\n",
              "      background-color: #E2EBFA;\n",
              "      box-shadow: 0px 1px 2px rgba(60, 64, 67, 0.3), 0px 1px 3px 1px rgba(60, 64, 67, 0.15);\n",
              "      fill: #174EA6;\n",
              "    }\n",
              "\n",
              "    [theme=dark] .colab-df-convert {\n",
              "      background-color: #3B4455;\n",
              "      fill: #D2E3FC;\n",
              "    }\n",
              "\n",
              "    [theme=dark] .colab-df-convert:hover {\n",
              "      background-color: #434B5C;\n",
              "      box-shadow: 0px 1px 3px 1px rgba(0, 0, 0, 0.15);\n",
              "      filter: drop-shadow(0px 1px 2px rgba(0, 0, 0, 0.3));\n",
              "      fill: #FFFFFF;\n",
              "    }\n",
              "  </style>\n",
              "\n",
              "      <script>\n",
              "        const buttonEl =\n",
              "          document.querySelector('#df-3e800a04-c152-4804-bbd8-e6b3a23d4749 button.colab-df-convert');\n",
              "        buttonEl.style.display =\n",
              "          google.colab.kernel.accessAllowed ? 'block' : 'none';\n",
              "\n",
              "        async function convertToInteractive(key) {\n",
              "          const element = document.querySelector('#df-3e800a04-c152-4804-bbd8-e6b3a23d4749');\n",
              "          const dataTable =\n",
              "            await google.colab.kernel.invokeFunction('convertToInteractive',\n",
              "                                                     [key], {});\n",
              "          if (!dataTable) return;\n",
              "\n",
              "          const docLinkHtml = 'Like what you see? Visit the ' +\n",
              "            '<a target=\"_blank\" href=https://colab.research.google.com/notebooks/data_table.ipynb>data table notebook</a>'\n",
              "            + ' to learn more about interactive tables.';\n",
              "          element.innerHTML = '';\n",
              "          dataTable['output_type'] = 'display_data';\n",
              "          await google.colab.output.renderOutput(dataTable, element);\n",
              "          const docLink = document.createElement('div');\n",
              "          docLink.innerHTML = docLinkHtml;\n",
              "          element.appendChild(docLink);\n",
              "        }\n",
              "      </script>\n",
              "    </div>\n",
              "  </div>\n",
              "  "
            ],
            "text/plain": [
              "        id  member_id  loan_amnt  funded_amnt  funded_amnt_inv        term  \\\n",
              "0  1077501    1296599       5000         5000           4975.0   36 months   \n",
              "1  1077430    1314167       2500         2500           2500.0   60 months   \n",
              "2  1077175    1313524       2400         2400           2400.0   36 months   \n",
              "3  1076863    1277178      10000        10000          10000.0   36 months   \n",
              "4  1075358    1311748       3000         3000           3000.0   60 months   \n",
              "\n",
              "  int_rate  installment grade sub_grade  ... num_tl_90g_dpd_24m  \\\n",
              "0   10.65%       162.87     B        B2  ...                NaN   \n",
              "1   15.27%        59.83     C        C4  ...                NaN   \n",
              "2   15.96%        84.33     C        C5  ...                NaN   \n",
              "3   13.49%       339.31     C        C1  ...                NaN   \n",
              "4   12.69%        67.79     B        B5  ...                NaN   \n",
              "\n",
              "  num_tl_op_past_12m pct_tl_nvr_dlq  percent_bc_gt_75 pub_rec_bankruptcies  \\\n",
              "0                NaN            NaN               NaN                  0.0   \n",
              "1                NaN            NaN               NaN                  0.0   \n",
              "2                NaN            NaN               NaN                  0.0   \n",
              "3                NaN            NaN               NaN                  0.0   \n",
              "4                NaN            NaN               NaN                  0.0   \n",
              "\n",
              "  tax_liens tot_hi_cred_lim total_bal_ex_mort total_bc_limit  \\\n",
              "0       0.0             NaN               NaN            NaN   \n",
              "1       0.0             NaN               NaN            NaN   \n",
              "2       0.0             NaN               NaN            NaN   \n",
              "3       0.0             NaN               NaN            NaN   \n",
              "4       0.0             NaN               NaN            NaN   \n",
              "\n",
              "  total_il_high_credit_limit  \n",
              "0                        NaN  \n",
              "1                        NaN  \n",
              "2                        NaN  \n",
              "3                        NaN  \n",
              "4                        NaN  \n",
              "\n",
              "[5 rows x 111 columns]"
            ]
          },
          "metadata": {},
          "execution_count": 2
        }
      ]
    },
    {
      "cell_type": "markdown",
      "source": [
        "Find the percentange of null values in the dataset and remove the columns which have more than 50% of null values"
      ],
      "metadata": {
        "id": "ltyFU0sE-bRw"
      }
    },
    {
      "cell_type": "code",
      "source": [
        "missing = round(100*(df.isnull().sum()/len(df.id)), 2)\n",
        "missing.loc[missing > 50]"
      ],
      "metadata": {
        "colab": {
          "base_uri": "https://localhost:8080/"
        },
        "id": "r66qWYPE-A5p",
        "outputId": "6d13d29e-9fa8-4029-ea73-fa4a0c833482"
      },
      "execution_count": 3,
      "outputs": [
        {
          "output_type": "execute_result",
          "data": {
            "text/plain": [
              "mths_since_last_delinq             64.66\n",
              "mths_since_last_record             92.99\n",
              "next_pymnt_d                       97.13\n",
              "mths_since_last_major_derog       100.00\n",
              "annual_inc_joint                  100.00\n",
              "dti_joint                         100.00\n",
              "verification_status_joint         100.00\n",
              "tot_coll_amt                      100.00\n",
              "tot_cur_bal                       100.00\n",
              "open_acc_6m                       100.00\n",
              "open_il_6m                        100.00\n",
              "open_il_12m                       100.00\n",
              "open_il_24m                       100.00\n",
              "mths_since_rcnt_il                100.00\n",
              "total_bal_il                      100.00\n",
              "il_util                           100.00\n",
              "open_rv_12m                       100.00\n",
              "open_rv_24m                       100.00\n",
              "max_bal_bc                        100.00\n",
              "all_util                          100.00\n",
              "total_rev_hi_lim                  100.00\n",
              "inq_fi                            100.00\n",
              "total_cu_tl                       100.00\n",
              "inq_last_12m                      100.00\n",
              "acc_open_past_24mths              100.00\n",
              "avg_cur_bal                       100.00\n",
              "bc_open_to_buy                    100.00\n",
              "bc_util                           100.00\n",
              "mo_sin_old_il_acct                100.00\n",
              "mo_sin_old_rev_tl_op              100.00\n",
              "mo_sin_rcnt_rev_tl_op             100.00\n",
              "mo_sin_rcnt_tl                    100.00\n",
              "mort_acc                          100.00\n",
              "mths_since_recent_bc              100.00\n",
              "mths_since_recent_bc_dlq          100.00\n",
              "mths_since_recent_inq             100.00\n",
              "mths_since_recent_revol_delinq    100.00\n",
              "num_accts_ever_120_pd             100.00\n",
              "num_actv_bc_tl                    100.00\n",
              "num_actv_rev_tl                   100.00\n",
              "num_bc_sats                       100.00\n",
              "num_bc_tl                         100.00\n",
              "num_il_tl                         100.00\n",
              "num_op_rev_tl                     100.00\n",
              "num_rev_accts                     100.00\n",
              "num_rev_tl_bal_gt_0               100.00\n",
              "num_sats                          100.00\n",
              "num_tl_120dpd_2m                  100.00\n",
              "num_tl_30dpd                      100.00\n",
              "num_tl_90g_dpd_24m                100.00\n",
              "num_tl_op_past_12m                100.00\n",
              "pct_tl_nvr_dlq                    100.00\n",
              "percent_bc_gt_75                  100.00\n",
              "tot_hi_cred_lim                   100.00\n",
              "total_bal_ex_mort                 100.00\n",
              "total_bc_limit                    100.00\n",
              "total_il_high_credit_limit        100.00\n",
              "dtype: float64"
            ]
          },
          "metadata": {},
          "execution_count": 3
        }
      ]
    },
    {
      "cell_type": "code",
      "source": [
        "missing_values = list(missing[missing >= 50].index)"
      ],
      "metadata": {
        "id": "pEirsYsu-u39"
      },
      "execution_count": 4,
      "outputs": []
    },
    {
      "cell_type": "code",
      "source": [
        "new_val= df.drop(missing_values,axis=1)\n"
      ],
      "metadata": {
        "id": "2J0h96sz-zMQ"
      },
      "execution_count": 5,
      "outputs": []
    },
    {
      "cell_type": "markdown",
      "source": [
        "Studied the dataset and found some of the rows that have no relavant details related to the analysis and some had repeated data"
      ],
      "metadata": {
        "id": "KAhLq9ar--W6"
      }
    },
    {
      "cell_type": "code",
      "source": [
        "new_val = new_val.drop(['id', 'member_id','emp_title','pymnt_plan','url','desc','title','zip_code',],axis=1)"
      ],
      "metadata": {
        "id": "sikrnPHc-4AY"
      },
      "execution_count": 6,
      "outputs": []
    },
    {
      "cell_type": "markdown",
      "source": [
        "check for the unique data in each of the columns to seperate continous and categorical values"
      ],
      "metadata": {
        "id": "epGpkh1M_U1c"
      }
    },
    {
      "cell_type": "code",
      "source": [
        "new_val.nunique()"
      ],
      "metadata": {
        "colab": {
          "base_uri": "https://localhost:8080/"
        },
        "id": "racCL6Sw_PiD",
        "outputId": "5f4e35e1-d4ff-421b-ab72-32f122bb0fcd"
      },
      "execution_count": 7,
      "outputs": [
        {
          "output_type": "execute_result",
          "data": {
            "text/plain": [
              "loan_amnt                       885\n",
              "funded_amnt                    1041\n",
              "funded_amnt_inv                8205\n",
              "term                              2\n",
              "int_rate                        371\n",
              "installment                   15383\n",
              "grade                             7\n",
              "sub_grade                        35\n",
              "emp_length                       11\n",
              "home_ownership                    5\n",
              "annual_inc                     5318\n",
              "verification_status               3\n",
              "issue_d                          55\n",
              "loan_status                       3\n",
              "purpose                          14\n",
              "addr_state                       50\n",
              "dti                            2868\n",
              "delinq_2yrs                      11\n",
              "earliest_cr_line                526\n",
              "inq_last_6mths                    9\n",
              "open_acc                         40\n",
              "pub_rec                           5\n",
              "revol_bal                     21711\n",
              "revol_util                     1089\n",
              "total_acc                        82\n",
              "initial_list_status               1\n",
              "out_prncp                      1137\n",
              "out_prncp_inv                  1138\n",
              "total_pymnt                   37850\n",
              "total_pymnt_inv               37518\n",
              "total_rec_prncp                7976\n",
              "total_rec_int                 35148\n",
              "total_rec_late_fee             1356\n",
              "recoveries                     4040\n",
              "collection_recovery_fee        2616\n",
              "last_pymnt_d                    101\n",
              "last_pymnt_amnt               34930\n",
              "last_credit_pull_d              106\n",
              "collections_12_mths_ex_med        1\n",
              "policy_code                       1\n",
              "application_type                  1\n",
              "acc_now_delinq                    1\n",
              "chargeoff_within_12_mths          1\n",
              "delinq_amnt                       1\n",
              "pub_rec_bankruptcies              3\n",
              "tax_liens                         1\n",
              "dtype: int64"
            ]
          },
          "metadata": {},
          "execution_count": 7
        }
      ]
    },
    {
      "cell_type": "markdown",
      "source": [
        "Remove the columns which have only one unique value as it does not contribute to analysis"
      ],
      "metadata": {
        "id": "CnRcEmGn_3dM"
      }
    },
    {
      "cell_type": "code",
      "source": [
        "new_val = new_val.drop(new_val.columns[(new_val.nunique() == 1)],axis=1)"
      ],
      "metadata": {
        "id": "rI9ei_eo_j2Z"
      },
      "execution_count": 8,
      "outputs": []
    },
    {
      "cell_type": "code",
      "source": [
        "new_val[['term','grade','emp_length','home_ownership','verification_status','loan_status','purpose','delinq_2yrs','inq_last_6mths','pub_rec','pub_rec_bankruptcies']].isnull().sum()"
      ],
      "metadata": {
        "colab": {
          "base_uri": "https://localhost:8080/"
        },
        "id": "MxpaIqgYAYWL",
        "outputId": "ebfaccc0-d36c-455f-f661-c20d14023e4d"
      },
      "execution_count": 9,
      "outputs": [
        {
          "output_type": "execute_result",
          "data": {
            "text/plain": [
              "term                       0\n",
              "grade                      0\n",
              "emp_length              1075\n",
              "home_ownership             0\n",
              "verification_status        0\n",
              "loan_status                0\n",
              "purpose                    0\n",
              "delinq_2yrs                0\n",
              "inq_last_6mths             0\n",
              "pub_rec                    0\n",
              "pub_rec_bankruptcies     697\n",
              "dtype: int64"
            ]
          },
          "metadata": {},
          "execution_count": 9
        }
      ]
    },
    {
      "cell_type": "code",
      "source": [
        "new_val.dropna().to_csv('clean_Data.csv', encoding='utf-8', index=False)\n",
        "new_val = pd.read_csv(r\"/content/clean_Data.csv\")"
      ],
      "metadata": {
        "id": "cAZKgRWqBnqK"
      },
      "execution_count": 10,
      "outputs": []
    },
    {
      "cell_type": "code",
      "source": [
        "new_val = new_val.dropna()\n",
        "new_val.isnull().sum()"
      ],
      "metadata": {
        "colab": {
          "base_uri": "https://localhost:8080/"
        },
        "id": "GhB-EXIWBtZn",
        "outputId": "5e7d35b3-cd02-40ed-d7db-9243c7789ded"
      },
      "execution_count": 11,
      "outputs": [
        {
          "output_type": "execute_result",
          "data": {
            "text/plain": [
              "loan_amnt                  0\n",
              "funded_amnt                0\n",
              "funded_amnt_inv            0\n",
              "term                       0\n",
              "int_rate                   0\n",
              "installment                0\n",
              "grade                      0\n",
              "sub_grade                  0\n",
              "emp_length                 0\n",
              "home_ownership             0\n",
              "annual_inc                 0\n",
              "verification_status        0\n",
              "issue_d                    0\n",
              "loan_status                0\n",
              "purpose                    0\n",
              "addr_state                 0\n",
              "dti                        0\n",
              "delinq_2yrs                0\n",
              "earliest_cr_line           0\n",
              "inq_last_6mths             0\n",
              "open_acc                   0\n",
              "pub_rec                    0\n",
              "revol_bal                  0\n",
              "revol_util                 0\n",
              "total_acc                  0\n",
              "out_prncp                  0\n",
              "out_prncp_inv              0\n",
              "total_pymnt                0\n",
              "total_pymnt_inv            0\n",
              "total_rec_prncp            0\n",
              "total_rec_int              0\n",
              "total_rec_late_fee         0\n",
              "recoveries                 0\n",
              "collection_recovery_fee    0\n",
              "last_pymnt_d               0\n",
              "last_pymnt_amnt            0\n",
              "last_credit_pull_d         0\n",
              "pub_rec_bankruptcies       0\n",
              "dtype: int64"
            ]
          },
          "metadata": {},
          "execution_count": 11
        }
      ]
    },
    {
      "cell_type": "markdown",
      "source": [
        "Now that we have cleaned the data with no null values, we will modify some data according to the need"
      ],
      "metadata": {
        "id": "jL9lIICsB8fM"
      }
    },
    {
      "cell_type": "code",
      "source": [
        "new_val['term'] =  new_val['term'].str[:3]\n",
        "new_val['int_rate']=new_val['int_rate'].str[:-1]\n",
        "emp_length_dict = {\n",
        "    '< 1 year' : 0,\n",
        "    '1 year' : 1,\n",
        "    '2 years' : 2,\n",
        "    '3 years' : 3,\n",
        "    '4 years' : 4,\n",
        "    '5 years' : 5,\n",
        "    '6 years' : 6,\n",
        "    '7 years' : 7,\n",
        "    '8 years' : 8,\n",
        "    '9 years' : 9,\n",
        "    '10+ years' : 10\n",
        "}\n",
        "new_val = new_val.replace({\"emp_length\": emp_length_dict })\n",
        "new_val['issue_d_month'] = new_val['issue_d'].str[:3]\n",
        "new_val['issue_d_year'] = new_val['issue_d'].str[-2:]"
      ],
      "metadata": {
        "id": "HAUM_qT8B0Zf"
      },
      "execution_count": 12,
      "outputs": []
    },
    {
      "cell_type": "markdown",
      "source": [
        "Removed the 'month' text from the term column, removed '%' from int_rate and changed the emp_length in usable format, also split the date into month and year"
      ],
      "metadata": {
        "id": "Z4BAI4DeCnWP"
      }
    },
    {
      "cell_type": "markdown",
      "source": [
        "# Analysis"
      ],
      "metadata": {
        "id": "nwvqhVe_DG8-"
      }
    },
    {
      "cell_type": "code",
      "source": [
        "new_val.to_csv('clean_Data.csv', encoding='utf-8', index=False)\n",
        "clean_data = pd.read_csv(r\"/content/clean_Data.csv\")\n",
        "clean_data.head(5)"
      ],
      "metadata": {
        "colab": {
          "base_uri": "https://localhost:8080/",
          "height": 300
        },
        "id": "ZjyF8CkPCmiZ",
        "outputId": "be5dfb36-b1d2-4e75-a1c2-376fa82eeebd"
      },
      "execution_count": 13,
      "outputs": [
        {
          "output_type": "execute_result",
          "data": {
            "text/html": [
              "\n",
              "  <div id=\"df-490e871d-bb15-4b67-bd54-439e2a5e16cc\">\n",
              "    <div class=\"colab-df-container\">\n",
              "      <div>\n",
              "<style scoped>\n",
              "    .dataframe tbody tr th:only-of-type {\n",
              "        vertical-align: middle;\n",
              "    }\n",
              "\n",
              "    .dataframe tbody tr th {\n",
              "        vertical-align: top;\n",
              "    }\n",
              "\n",
              "    .dataframe thead th {\n",
              "        text-align: right;\n",
              "    }\n",
              "</style>\n",
              "<table border=\"1\" class=\"dataframe\">\n",
              "  <thead>\n",
              "    <tr style=\"text-align: right;\">\n",
              "      <th></th>\n",
              "      <th>loan_amnt</th>\n",
              "      <th>funded_amnt</th>\n",
              "      <th>funded_amnt_inv</th>\n",
              "      <th>term</th>\n",
              "      <th>int_rate</th>\n",
              "      <th>installment</th>\n",
              "      <th>grade</th>\n",
              "      <th>sub_grade</th>\n",
              "      <th>emp_length</th>\n",
              "      <th>home_ownership</th>\n",
              "      <th>...</th>\n",
              "      <th>total_rec_int</th>\n",
              "      <th>total_rec_late_fee</th>\n",
              "      <th>recoveries</th>\n",
              "      <th>collection_recovery_fee</th>\n",
              "      <th>last_pymnt_d</th>\n",
              "      <th>last_pymnt_amnt</th>\n",
              "      <th>last_credit_pull_d</th>\n",
              "      <th>pub_rec_bankruptcies</th>\n",
              "      <th>issue_d_month</th>\n",
              "      <th>issue_d_year</th>\n",
              "    </tr>\n",
              "  </thead>\n",
              "  <tbody>\n",
              "    <tr>\n",
              "      <th>0</th>\n",
              "      <td>5000</td>\n",
              "      <td>5000</td>\n",
              "      <td>4975.0</td>\n",
              "      <td>36</td>\n",
              "      <td>10.65</td>\n",
              "      <td>162.87</td>\n",
              "      <td>B</td>\n",
              "      <td>B2</td>\n",
              "      <td>10</td>\n",
              "      <td>RENT</td>\n",
              "      <td>...</td>\n",
              "      <td>863.16</td>\n",
              "      <td>0.00</td>\n",
              "      <td>0.00</td>\n",
              "      <td>0.00</td>\n",
              "      <td>Jan-15</td>\n",
              "      <td>171.62</td>\n",
              "      <td>May-16</td>\n",
              "      <td>0.0</td>\n",
              "      <td>Dec</td>\n",
              "      <td>11</td>\n",
              "    </tr>\n",
              "    <tr>\n",
              "      <th>1</th>\n",
              "      <td>2500</td>\n",
              "      <td>2500</td>\n",
              "      <td>2500.0</td>\n",
              "      <td>60</td>\n",
              "      <td>15.27</td>\n",
              "      <td>59.83</td>\n",
              "      <td>C</td>\n",
              "      <td>C4</td>\n",
              "      <td>0</td>\n",
              "      <td>RENT</td>\n",
              "      <td>...</td>\n",
              "      <td>435.17</td>\n",
              "      <td>0.00</td>\n",
              "      <td>117.08</td>\n",
              "      <td>1.11</td>\n",
              "      <td>Apr-13</td>\n",
              "      <td>119.66</td>\n",
              "      <td>Sep-13</td>\n",
              "      <td>0.0</td>\n",
              "      <td>Dec</td>\n",
              "      <td>11</td>\n",
              "    </tr>\n",
              "    <tr>\n",
              "      <th>2</th>\n",
              "      <td>2400</td>\n",
              "      <td>2400</td>\n",
              "      <td>2400.0</td>\n",
              "      <td>36</td>\n",
              "      <td>15.96</td>\n",
              "      <td>84.33</td>\n",
              "      <td>C</td>\n",
              "      <td>C5</td>\n",
              "      <td>10</td>\n",
              "      <td>RENT</td>\n",
              "      <td>...</td>\n",
              "      <td>605.67</td>\n",
              "      <td>0.00</td>\n",
              "      <td>0.00</td>\n",
              "      <td>0.00</td>\n",
              "      <td>Jun-14</td>\n",
              "      <td>649.91</td>\n",
              "      <td>May-16</td>\n",
              "      <td>0.0</td>\n",
              "      <td>Dec</td>\n",
              "      <td>11</td>\n",
              "    </tr>\n",
              "    <tr>\n",
              "      <th>3</th>\n",
              "      <td>10000</td>\n",
              "      <td>10000</td>\n",
              "      <td>10000.0</td>\n",
              "      <td>36</td>\n",
              "      <td>13.49</td>\n",
              "      <td>339.31</td>\n",
              "      <td>C</td>\n",
              "      <td>C1</td>\n",
              "      <td>10</td>\n",
              "      <td>RENT</td>\n",
              "      <td>...</td>\n",
              "      <td>2214.92</td>\n",
              "      <td>16.97</td>\n",
              "      <td>0.00</td>\n",
              "      <td>0.00</td>\n",
              "      <td>Jan-15</td>\n",
              "      <td>357.48</td>\n",
              "      <td>Apr-16</td>\n",
              "      <td>0.0</td>\n",
              "      <td>Dec</td>\n",
              "      <td>11</td>\n",
              "    </tr>\n",
              "    <tr>\n",
              "      <th>4</th>\n",
              "      <td>3000</td>\n",
              "      <td>3000</td>\n",
              "      <td>3000.0</td>\n",
              "      <td>60</td>\n",
              "      <td>12.69</td>\n",
              "      <td>67.79</td>\n",
              "      <td>B</td>\n",
              "      <td>B5</td>\n",
              "      <td>1</td>\n",
              "      <td>RENT</td>\n",
              "      <td>...</td>\n",
              "      <td>1037.39</td>\n",
              "      <td>0.00</td>\n",
              "      <td>0.00</td>\n",
              "      <td>0.00</td>\n",
              "      <td>May-16</td>\n",
              "      <td>67.79</td>\n",
              "      <td>May-16</td>\n",
              "      <td>0.0</td>\n",
              "      <td>Dec</td>\n",
              "      <td>11</td>\n",
              "    </tr>\n",
              "  </tbody>\n",
              "</table>\n",
              "<p>5 rows × 40 columns</p>\n",
              "</div>\n",
              "      <button class=\"colab-df-convert\" onclick=\"convertToInteractive('df-490e871d-bb15-4b67-bd54-439e2a5e16cc')\"\n",
              "              title=\"Convert this dataframe to an interactive table.\"\n",
              "              style=\"display:none;\">\n",
              "        \n",
              "  <svg xmlns=\"http://www.w3.org/2000/svg\" height=\"24px\"viewBox=\"0 0 24 24\"\n",
              "       width=\"24px\">\n",
              "    <path d=\"M0 0h24v24H0V0z\" fill=\"none\"/>\n",
              "    <path d=\"M18.56 5.44l.94 2.06.94-2.06 2.06-.94-2.06-.94-.94-2.06-.94 2.06-2.06.94zm-11 1L8.5 8.5l.94-2.06 2.06-.94-2.06-.94L8.5 2.5l-.94 2.06-2.06.94zm10 10l.94 2.06.94-2.06 2.06-.94-2.06-.94-.94-2.06-.94 2.06-2.06.94z\"/><path d=\"M17.41 7.96l-1.37-1.37c-.4-.4-.92-.59-1.43-.59-.52 0-1.04.2-1.43.59L10.3 9.45l-7.72 7.72c-.78.78-.78 2.05 0 2.83L4 21.41c.39.39.9.59 1.41.59.51 0 1.02-.2 1.41-.59l7.78-7.78 2.81-2.81c.8-.78.8-2.07 0-2.86zM5.41 20L4 18.59l7.72-7.72 1.47 1.35L5.41 20z\"/>\n",
              "  </svg>\n",
              "      </button>\n",
              "      \n",
              "  <style>\n",
              "    .colab-df-container {\n",
              "      display:flex;\n",
              "      flex-wrap:wrap;\n",
              "      gap: 12px;\n",
              "    }\n",
              "\n",
              "    .colab-df-convert {\n",
              "      background-color: #E8F0FE;\n",
              "      border: none;\n",
              "      border-radius: 50%;\n",
              "      cursor: pointer;\n",
              "      display: none;\n",
              "      fill: #1967D2;\n",
              "      height: 32px;\n",
              "      padding: 0 0 0 0;\n",
              "      width: 32px;\n",
              "    }\n",
              "\n",
              "    .colab-df-convert:hover {\n",
              "      background-color: #E2EBFA;\n",
              "      box-shadow: 0px 1px 2px rgba(60, 64, 67, 0.3), 0px 1px 3px 1px rgba(60, 64, 67, 0.15);\n",
              "      fill: #174EA6;\n",
              "    }\n",
              "\n",
              "    [theme=dark] .colab-df-convert {\n",
              "      background-color: #3B4455;\n",
              "      fill: #D2E3FC;\n",
              "    }\n",
              "\n",
              "    [theme=dark] .colab-df-convert:hover {\n",
              "      background-color: #434B5C;\n",
              "      box-shadow: 0px 1px 3px 1px rgba(0, 0, 0, 0.15);\n",
              "      filter: drop-shadow(0px 1px 2px rgba(0, 0, 0, 0.3));\n",
              "      fill: #FFFFFF;\n",
              "    }\n",
              "  </style>\n",
              "\n",
              "      <script>\n",
              "        const buttonEl =\n",
              "          document.querySelector('#df-490e871d-bb15-4b67-bd54-439e2a5e16cc button.colab-df-convert');\n",
              "        buttonEl.style.display =\n",
              "          google.colab.kernel.accessAllowed ? 'block' : 'none';\n",
              "\n",
              "        async function convertToInteractive(key) {\n",
              "          const element = document.querySelector('#df-490e871d-bb15-4b67-bd54-439e2a5e16cc');\n",
              "          const dataTable =\n",
              "            await google.colab.kernel.invokeFunction('convertToInteractive',\n",
              "                                                     [key], {});\n",
              "          if (!dataTable) return;\n",
              "\n",
              "          const docLinkHtml = 'Like what you see? Visit the ' +\n",
              "            '<a target=\"_blank\" href=https://colab.research.google.com/notebooks/data_table.ipynb>data table notebook</a>'\n",
              "            + ' to learn more about interactive tables.';\n",
              "          element.innerHTML = '';\n",
              "          dataTable['output_type'] = 'display_data';\n",
              "          await google.colab.output.renderOutput(dataTable, element);\n",
              "          const docLink = document.createElement('div');\n",
              "          docLink.innerHTML = docLinkHtml;\n",
              "          element.appendChild(docLink);\n",
              "        }\n",
              "      </script>\n",
              "    </div>\n",
              "  </div>\n",
              "  "
            ],
            "text/plain": [
              "   loan_amnt  funded_amnt  funded_amnt_inv  term  int_rate  installment grade  \\\n",
              "0       5000         5000           4975.0    36     10.65       162.87     B   \n",
              "1       2500         2500           2500.0    60     15.27        59.83     C   \n",
              "2       2400         2400           2400.0    36     15.96        84.33     C   \n",
              "3      10000        10000          10000.0    36     13.49       339.31     C   \n",
              "4       3000         3000           3000.0    60     12.69        67.79     B   \n",
              "\n",
              "  sub_grade  emp_length home_ownership  ...  total_rec_int total_rec_late_fee  \\\n",
              "0        B2          10           RENT  ...         863.16               0.00   \n",
              "1        C4           0           RENT  ...         435.17               0.00   \n",
              "2        C5          10           RENT  ...         605.67               0.00   \n",
              "3        C1          10           RENT  ...        2214.92              16.97   \n",
              "4        B5           1           RENT  ...        1037.39               0.00   \n",
              "\n",
              "  recoveries collection_recovery_fee last_pymnt_d last_pymnt_amnt  \\\n",
              "0       0.00                    0.00       Jan-15          171.62   \n",
              "1     117.08                    1.11       Apr-13          119.66   \n",
              "2       0.00                    0.00       Jun-14          649.91   \n",
              "3       0.00                    0.00       Jan-15          357.48   \n",
              "4       0.00                    0.00       May-16           67.79   \n",
              "\n",
              "   last_credit_pull_d  pub_rec_bankruptcies issue_d_month  issue_d_year  \n",
              "0              May-16                   0.0           Dec            11  \n",
              "1              Sep-13                   0.0           Dec            11  \n",
              "2              May-16                   0.0           Dec            11  \n",
              "3              Apr-16                   0.0           Dec            11  \n",
              "4              May-16                   0.0           Dec            11  \n",
              "\n",
              "[5 rows x 40 columns]"
            ]
          },
          "metadata": {},
          "execution_count": 13
        }
      ]
    },
    {
      "cell_type": "code",
      "source": [
        "clean_data.shape"
      ],
      "metadata": {
        "colab": {
          "base_uri": "https://localhost:8080/"
        },
        "id": "P8b2XgmtDbVJ",
        "outputId": "efeb37cb-f086-4e1e-9369-e8ffd01c7cf5"
      },
      "execution_count": 14,
      "outputs": [
        {
          "output_type": "execute_result",
          "data": {
            "text/plain": [
              "(37835, 40)"
            ]
          },
          "metadata": {},
          "execution_count": 14
        }
      ]
    },
    {
      "cell_type": "markdown",
      "source": [
        "Now we have a dataset with 40 columns to analyse which is clean and in a good format to analyse"
      ],
      "metadata": {
        "id": "KlcK7LvQDhjF"
      }
    },
    {
      "cell_type": "code",
      "source": [
        "clean_data.loan_status.value_counts()\n"
      ],
      "metadata": {
        "colab": {
          "base_uri": "https://localhost:8080/"
        },
        "id": "TsBa_g_jDgvC",
        "outputId": "d808aef6-5aea-4245-8783-a78a94ce7ad3"
      },
      "execution_count": 15,
      "outputs": [
        {
          "output_type": "execute_result",
          "data": {
            "text/plain": [
              "Fully Paid     31534\n",
              "Charged Off     5203\n",
              "Current         1098\n",
              "Name: loan_status, dtype: int64"
            ]
          },
          "metadata": {},
          "execution_count": 15
        }
      ]
    },
    {
      "cell_type": "markdown",
      "source": [
        "Since we cant decide the behaviour of the other customers with the data of those in current status we are removing it"
      ],
      "metadata": {
        "id": "IoGlz41wD2kf"
      }
    },
    {
      "cell_type": "code",
      "source": [
        "clean_Data = clean_data.drop(clean_data[(clean_data['loan_status'] == \"Current\")].index)\n"
      ],
      "metadata": {
        "id": "thY4HJcvDvkU"
      },
      "execution_count": 16,
      "outputs": []
    },
    {
      "cell_type": "code",
      "source": [
        "(clean_Data.groupby('loan_status')[\"total_pymnt\"].sum() / clean_Data.groupby('loan_status')[\"loan_amnt\"].sum())* 100"
      ],
      "metadata": {
        "colab": {
          "base_uri": "https://localhost:8080/"
        },
        "id": "rc4F7dTCD1lT",
        "outputId": "3a884f1d-cc67-4ebb-a9b9-f2f73791a62f"
      },
      "execution_count": 17,
      "outputs": [
        {
          "output_type": "execute_result",
          "data": {
            "text/plain": [
              "loan_status\n",
              "Charged Off     56.895105\n",
              "Fully Paid     117.184311\n",
              "dtype: float64"
            ]
          },
          "metadata": {},
          "execution_count": 17
        }
      ]
    },
    {
      "cell_type": "markdown",
      "source": [
        "The bank faces approx 44% of loss due to the loan given to the defaulters \n",
        "\n",
        "---\n",
        "\n",
        "whereas the bank gets 17% profit from fully paid loans\n"
      ],
      "metadata": {
        "id": "SmKBSCZ9MDgn"
      }
    },
    {
      "cell_type": "code",
      "source": [
        "clean_Data.groupby('loan_status').loan_amnt.describe()\n"
      ],
      "metadata": {
        "colab": {
          "base_uri": "https://localhost:8080/",
          "height": 143
        },
        "id": "R8EtXdE5MAMs",
        "outputId": "949809ce-af85-4470-f275-897491c0b759"
      },
      "execution_count": 18,
      "outputs": [
        {
          "output_type": "execute_result",
          "data": {
            "text/html": [
              "\n",
              "  <div id=\"df-5ca648ff-fb41-437d-9382-00fa55ddf6a1\">\n",
              "    <div class=\"colab-df-container\">\n",
              "      <div>\n",
              "<style scoped>\n",
              "    .dataframe tbody tr th:only-of-type {\n",
              "        vertical-align: middle;\n",
              "    }\n",
              "\n",
              "    .dataframe tbody tr th {\n",
              "        vertical-align: top;\n",
              "    }\n",
              "\n",
              "    .dataframe thead th {\n",
              "        text-align: right;\n",
              "    }\n",
              "</style>\n",
              "<table border=\"1\" class=\"dataframe\">\n",
              "  <thead>\n",
              "    <tr style=\"text-align: right;\">\n",
              "      <th></th>\n",
              "      <th>count</th>\n",
              "      <th>mean</th>\n",
              "      <th>std</th>\n",
              "      <th>min</th>\n",
              "      <th>25%</th>\n",
              "      <th>50%</th>\n",
              "      <th>75%</th>\n",
              "      <th>max</th>\n",
              "    </tr>\n",
              "    <tr>\n",
              "      <th>loan_status</th>\n",
              "      <th></th>\n",
              "      <th></th>\n",
              "      <th></th>\n",
              "      <th></th>\n",
              "      <th></th>\n",
              "      <th></th>\n",
              "      <th></th>\n",
              "      <th></th>\n",
              "    </tr>\n",
              "  </thead>\n",
              "  <tbody>\n",
              "    <tr>\n",
              "      <th>Charged Off</th>\n",
              "      <td>5203.0</td>\n",
              "      <td>12296.290602</td>\n",
              "      <td>8096.922633</td>\n",
              "      <td>1000.0</td>\n",
              "      <td>6000.0</td>\n",
              "      <td>10000.0</td>\n",
              "      <td>17000.0</td>\n",
              "      <td>35000.0</td>\n",
              "    </tr>\n",
              "    <tr>\n",
              "      <th>Fully Paid</th>\n",
              "      <td>31534.0</td>\n",
              "      <td>10964.766601</td>\n",
              "      <td>7223.862728</td>\n",
              "      <td>500.0</td>\n",
              "      <td>5500.0</td>\n",
              "      <td>9600.0</td>\n",
              "      <td>15000.0</td>\n",
              "      <td>35000.0</td>\n",
              "    </tr>\n",
              "  </tbody>\n",
              "</table>\n",
              "</div>\n",
              "      <button class=\"colab-df-convert\" onclick=\"convertToInteractive('df-5ca648ff-fb41-437d-9382-00fa55ddf6a1')\"\n",
              "              title=\"Convert this dataframe to an interactive table.\"\n",
              "              style=\"display:none;\">\n",
              "        \n",
              "  <svg xmlns=\"http://www.w3.org/2000/svg\" height=\"24px\"viewBox=\"0 0 24 24\"\n",
              "       width=\"24px\">\n",
              "    <path d=\"M0 0h24v24H0V0z\" fill=\"none\"/>\n",
              "    <path d=\"M18.56 5.44l.94 2.06.94-2.06 2.06-.94-2.06-.94-.94-2.06-.94 2.06-2.06.94zm-11 1L8.5 8.5l.94-2.06 2.06-.94-2.06-.94L8.5 2.5l-.94 2.06-2.06.94zm10 10l.94 2.06.94-2.06 2.06-.94-2.06-.94-.94-2.06-.94 2.06-2.06.94z\"/><path d=\"M17.41 7.96l-1.37-1.37c-.4-.4-.92-.59-1.43-.59-.52 0-1.04.2-1.43.59L10.3 9.45l-7.72 7.72c-.78.78-.78 2.05 0 2.83L4 21.41c.39.39.9.59 1.41.59.51 0 1.02-.2 1.41-.59l7.78-7.78 2.81-2.81c.8-.78.8-2.07 0-2.86zM5.41 20L4 18.59l7.72-7.72 1.47 1.35L5.41 20z\"/>\n",
              "  </svg>\n",
              "      </button>\n",
              "      \n",
              "  <style>\n",
              "    .colab-df-container {\n",
              "      display:flex;\n",
              "      flex-wrap:wrap;\n",
              "      gap: 12px;\n",
              "    }\n",
              "\n",
              "    .colab-df-convert {\n",
              "      background-color: #E8F0FE;\n",
              "      border: none;\n",
              "      border-radius: 50%;\n",
              "      cursor: pointer;\n",
              "      display: none;\n",
              "      fill: #1967D2;\n",
              "      height: 32px;\n",
              "      padding: 0 0 0 0;\n",
              "      width: 32px;\n",
              "    }\n",
              "\n",
              "    .colab-df-convert:hover {\n",
              "      background-color: #E2EBFA;\n",
              "      box-shadow: 0px 1px 2px rgba(60, 64, 67, 0.3), 0px 1px 3px 1px rgba(60, 64, 67, 0.15);\n",
              "      fill: #174EA6;\n",
              "    }\n",
              "\n",
              "    [theme=dark] .colab-df-convert {\n",
              "      background-color: #3B4455;\n",
              "      fill: #D2E3FC;\n",
              "    }\n",
              "\n",
              "    [theme=dark] .colab-df-convert:hover {\n",
              "      background-color: #434B5C;\n",
              "      box-shadow: 0px 1px 3px 1px rgba(0, 0, 0, 0.15);\n",
              "      filter: drop-shadow(0px 1px 2px rgba(0, 0, 0, 0.3));\n",
              "      fill: #FFFFFF;\n",
              "    }\n",
              "  </style>\n",
              "\n",
              "      <script>\n",
              "        const buttonEl =\n",
              "          document.querySelector('#df-5ca648ff-fb41-437d-9382-00fa55ddf6a1 button.colab-df-convert');\n",
              "        buttonEl.style.display =\n",
              "          google.colab.kernel.accessAllowed ? 'block' : 'none';\n",
              "\n",
              "        async function convertToInteractive(key) {\n",
              "          const element = document.querySelector('#df-5ca648ff-fb41-437d-9382-00fa55ddf6a1');\n",
              "          const dataTable =\n",
              "            await google.colab.kernel.invokeFunction('convertToInteractive',\n",
              "                                                     [key], {});\n",
              "          if (!dataTable) return;\n",
              "\n",
              "          const docLinkHtml = 'Like what you see? Visit the ' +\n",
              "            '<a target=\"_blank\" href=https://colab.research.google.com/notebooks/data_table.ipynb>data table notebook</a>'\n",
              "            + ' to learn more about interactive tables.';\n",
              "          element.innerHTML = '';\n",
              "          dataTable['output_type'] = 'display_data';\n",
              "          await google.colab.output.renderOutput(dataTable, element);\n",
              "          const docLink = document.createElement('div');\n",
              "          docLink.innerHTML = docLinkHtml;\n",
              "          element.appendChild(docLink);\n",
              "        }\n",
              "      </script>\n",
              "    </div>\n",
              "  </div>\n",
              "  "
            ],
            "text/plain": [
              "               count          mean          std     min     25%      50%  \\\n",
              "loan_status                                                                \n",
              "Charged Off   5203.0  12296.290602  8096.922633  1000.0  6000.0  10000.0   \n",
              "Fully Paid   31534.0  10964.766601  7223.862728   500.0  5500.0   9600.0   \n",
              "\n",
              "                 75%      max  \n",
              "loan_status                    \n",
              "Charged Off  17000.0  35000.0  \n",
              "Fully Paid   15000.0  35000.0  "
            ]
          },
          "metadata": {},
          "execution_count": 18
        }
      ]
    },
    {
      "cell_type": "markdown",
      "source": [
        "1.   It can be seen that defaulters demand for more loan amount than those who pay back loan properly.\n"
      ],
      "metadata": {
        "id": "x9pF66BwMQ6f"
      }
    },
    {
      "cell_type": "code",
      "source": [
        "(clean_Data[\"home_ownership\"].value_counts()/clean_Data[\"home_ownership\"].count())*100"
      ],
      "metadata": {
        "colab": {
          "base_uri": "https://localhost:8080/"
        },
        "id": "zbYRmNmfMNbG",
        "outputId": "a72ef591-5a75-4060-937e-a5ac692bb946"
      },
      "execution_count": 19,
      "outputs": [
        {
          "output_type": "execute_result",
          "data": {
            "text/plain": [
              "RENT        47.962545\n",
              "MORTGAGE    44.426600\n",
              "OWN          7.349539\n",
              "OTHER        0.261317\n",
              "Name: home_ownership, dtype: float64"
            ]
          },
          "metadata": {},
          "execution_count": 19
        }
      ]
    },
    {
      "cell_type": "markdown",
      "source": [
        "1.   It can be seen that most of those who have applied loan dont have a own house or its under mortgage.\n",
        "\n",
        "2.   Just 7% of the total people who got loan have their own house.\n"
      ],
      "metadata": {
        "id": "KnRZUJ5sMiXl"
      }
    },
    {
      "cell_type": "code",
      "source": [
        "my_tab = pd.crosstab(index = clean_Data[\"emp_length\"],columns=\"count\")  \n",
        "my_tab.plot.bar()"
      ],
      "metadata": {
        "colab": {
          "base_uri": "https://localhost:8080/",
          "height": 300
        },
        "id": "hmG8QvKnMdMd",
        "outputId": "6a2b4764-4d35-41c0-b51c-b8e608dc358b"
      },
      "execution_count": 20,
      "outputs": [
        {
          "output_type": "execute_result",
          "data": {
            "text/plain": [
              "<matplotlib.axes._subplots.AxesSubplot at 0x7efcb19d3fd0>"
            ]
          },
          "metadata": {},
          "execution_count": 20
        },
        {
          "output_type": "display_data",
          "data": {
            "image/png": "[encoded data removed]",
            "text/plain": [
              "<Figure size 432x288 with 1 Axes>"
            ]
          },
          "metadata": {
            "needs_background": "light"
          }
        }
      ]
    },
    {
      "cell_type": "markdown",
      "source": [
        "\n",
        "\n",
        "1.   It can be seen that people above 10 years of work experience have been given more number of loans.\n",
        "2.   It may be because those with 10+ experience could repay the loan properly or may have good credit score.\n",
        "\n"
      ],
      "metadata": {
        "id": "-svkUcwSM3Zi"
      }
    },
    {
      "cell_type": "code",
      "source": [
        "(clean_Data[\"purpose\"].value_counts()/clean_Data[\"purpose\"].value_counts().sum())*100"
      ],
      "metadata": {
        "colab": {
          "base_uri": "https://localhost:8080/"
        },
        "id": "p9QSmjDJMypa",
        "outputId": "4b9945f7-2e90-4cb7-9d34-09ae23ccfd37"
      },
      "execution_count": 21,
      "outputs": [
        {
          "output_type": "execute_result",
          "data": {
            "text/plain": [
              "debt_consolidation    47.216703\n",
              "credit_card           13.057680\n",
              "other                  9.766720\n",
              "home_improvement       7.433922\n",
              "major_purchase         5.580205\n",
              "small_business         4.485941\n",
              "car                    3.889811\n",
              "wedding                2.414460\n",
              "medical                1.755723\n",
              "moving                 1.472630\n",
              "house                  0.944552\n",
              "vacation               0.928220\n",
              "educational            0.800283\n",
              "renewable_energy       0.253151\n",
              "Name: purpose, dtype: float64"
            ]
          },
          "metadata": {},
          "execution_count": 21
        }
      ]
    },
    {
      "cell_type": "markdown",
      "source": [
        "\n",
        "\n",
        "1.   It can be seen that 47% of those who got loan used it to close their previous loans\n",
        "2.   Also 0.25% of those used the loan to build renewable energy and 0.8% for education which is appreciated.\n",
        "\n"
      ],
      "metadata": {
        "id": "LxX4FLkgM9pp"
      }
    },
    {
      "cell_type": "code",
      "source": [
        "clean_Data['annual_inc'].describe()"
      ],
      "metadata": {
        "colab": {
          "base_uri": "https://localhost:8080/"
        },
        "id": "CeH9oM4tM8P6",
        "outputId": "79268e13-a925-436c-fb57-e061591c2518"
      },
      "execution_count": 22,
      "outputs": [
        {
          "output_type": "execute_result",
          "data": {
            "text/plain": [
              "count    3.673700e+04\n",
              "mean     6.946723e+04\n",
              "std      6.406256e+04\n",
              "min      4.000000e+03\n",
              "25%      4.120000e+04\n",
              "50%      6.000000e+04\n",
              "75%      8.300000e+04\n",
              "max      6.000000e+06\n",
              "Name: annual_inc, dtype: float64"
            ]
          },
          "metadata": {},
          "execution_count": 22
        }
      ]
    },
    {
      "cell_type": "code",
      "source": [
        "clean_Data.groupby('loan_status').annual_inc.describe()\n"
      ],
      "metadata": {
        "colab": {
          "base_uri": "https://localhost:8080/",
          "height": 143
        },
        "id": "g5XTfRIkNN36",
        "outputId": "0b7a77c0-72e7-43d8-bae1-c184a5614f78"
      },
      "execution_count": 23,
      "outputs": [
        {
          "output_type": "execute_result",
          "data": {
            "text/html": [
              "\n",
              "  <div id=\"df-8d7cef50-834c-4e21-8aed-48336e21dea4\">\n",
              "    <div class=\"colab-df-container\">\n",
              "      <div>\n",
              "<style scoped>\n",
              "    .dataframe tbody tr th:only-of-type {\n",
              "        vertical-align: middle;\n",
              "    }\n",
              "\n",
              "    .dataframe tbody tr th {\n",
              "        vertical-align: top;\n",
              "    }\n",
              "\n",
              "    .dataframe thead th {\n",
              "        text-align: right;\n",
              "    }\n",
              "</style>\n",
              "<table border=\"1\" class=\"dataframe\">\n",
              "  <thead>\n",
              "    <tr style=\"text-align: right;\">\n",
              "      <th></th>\n",
              "      <th>count</th>\n",
              "      <th>mean</th>\n",
              "      <th>std</th>\n",
              "      <th>min</th>\n",
              "      <th>25%</th>\n",
              "      <th>50%</th>\n",
              "      <th>75%</th>\n",
              "      <th>max</th>\n",
              "    </tr>\n",
              "    <tr>\n",
              "      <th>loan_status</th>\n",
              "      <th></th>\n",
              "      <th></th>\n",
              "      <th></th>\n",
              "      <th></th>\n",
              "      <th></th>\n",
              "      <th></th>\n",
              "      <th></th>\n",
              "      <th></th>\n",
              "    </tr>\n",
              "  </thead>\n",
              "  <tbody>\n",
              "    <tr>\n",
              "      <th>Charged Off</th>\n",
              "      <td>5203.0</td>\n",
              "      <td>63407.712614</td>\n",
              "      <td>47893.247256</td>\n",
              "      <td>4080.0</td>\n",
              "      <td>38400.0</td>\n",
              "      <td>54000.0</td>\n",
              "      <td>75000.0</td>\n",
              "      <td>1250000.0</td>\n",
              "    </tr>\n",
              "    <tr>\n",
              "      <th>Fully Paid</th>\n",
              "      <td>31534.0</td>\n",
              "      <td>70467.031187</td>\n",
              "      <td>66300.230965</td>\n",
              "      <td>4000.0</td>\n",
              "      <td>42000.0</td>\n",
              "      <td>60000.0</td>\n",
              "      <td>84996.0</td>\n",
              "      <td>6000000.0</td>\n",
              "    </tr>\n",
              "  </tbody>\n",
              "</table>\n",
              "</div>\n",
              "      <button class=\"colab-df-convert\" onclick=\"convertToInteractive('df-8d7cef50-834c-4e21-8aed-48336e21dea4')\"\n",
              "              title=\"Convert this dataframe to an interactive table.\"\n",
              "              style=\"display:none;\">\n",
              "        \n",
              "  <svg xmlns=\"http://www.w3.org/2000/svg\" height=\"24px\"viewBox=\"0 0 24 24\"\n",
              "       width=\"24px\">\n",
              "    <path d=\"M0 0h24v24H0V0z\" fill=\"none\"/>\n",
              "    <path d=\"M18.56 5.44l.94 2.06.94-2.06 2.06-.94-2.06-.94-.94-2.06-.94 2.06-2.06.94zm-11 1L8.5 8.5l.94-2.06 2.06-.94-2.06-.94L8.5 2.5l-.94 2.06-2.06.94zm10 10l.94 2.06.94-2.06 2.06-.94-2.06-.94-.94-2.06-.94 2.06-2.06.94z\"/><path d=\"M17.41 7.96l-1.37-1.37c-.4-.4-.92-.59-1.43-.59-.52 0-1.04.2-1.43.59L10.3 9.45l-7.72 7.72c-.78.78-.78 2.05 0 2.83L4 21.41c.39.39.9.59 1.41.59.51 0 1.02-.2 1.41-.59l7.78-7.78 2.81-2.81c.8-.78.8-2.07 0-2.86zM5.41 20L4 18.59l7.72-7.72 1.47 1.35L5.41 20z\"/>\n",
              "  </svg>\n",
              "      </button>\n",
              "      \n",
              "  <style>\n",
              "    .colab-df-container {\n",
              "      display:flex;\n",
              "      flex-wrap:wrap;\n",
              "      gap: 12px;\n",
              "    }\n",
              "\n",
              "    .colab-df-convert {\n",
              "      background-color: #E8F0FE;\n",
              "      border: none;\n",
              "      border-radius: 50%;\n",
              "      cursor: pointer;\n",
              "      display: none;\n",
              "      fill: #1967D2;\n",
              "      height: 32px;\n",
              "      padding: 0 0 0 0;\n",
              "      width: 32px;\n",
              "    }\n",
              "\n",
              "    .colab-df-convert:hover {\n",
              "      background-color: #E2EBFA;\n",
              "      box-shadow: 0px 1px 2px rgba(60, 64, 67, 0.3), 0px 1px 3px 1px rgba(60, 64, 67, 0.15);\n",
              "      fill: #174EA6;\n",
              "    }\n",
              "\n",
              "    [theme=dark] .colab-df-convert {\n",
              "      background-color: #3B4455;\n",
              "      fill: #D2E3FC;\n",
              "    }\n",
              "\n",
              "    [theme=dark] .colab-df-convert:hover {\n",
              "      background-color: #434B5C;\n",
              "      box-shadow: 0px 1px 3px 1px rgba(0, 0, 0, 0.15);\n",
              "      filter: drop-shadow(0px 1px 2px rgba(0, 0, 0, 0.3));\n",
              "      fill: #FFFFFF;\n",
              "    }\n",
              "  </style>\n",
              "\n",
              "      <script>\n",
              "        const buttonEl =\n",
              "          document.querySelector('#df-8d7cef50-834c-4e21-8aed-48336e21dea4 button.colab-df-convert');\n",
              "        buttonEl.style.display =\n",
              "          google.colab.kernel.accessAllowed ? 'block' : 'none';\n",
              "\n",
              "        async function convertToInteractive(key) {\n",
              "          const element = document.querySelector('#df-8d7cef50-834c-4e21-8aed-48336e21dea4');\n",
              "          const dataTable =\n",
              "            await google.colab.kernel.invokeFunction('convertToInteractive',\n",
              "                                                     [key], {});\n",
              "          if (!dataTable) return;\n",
              "\n",
              "          const docLinkHtml = 'Like what you see? Visit the ' +\n",
              "            '<a target=\"_blank\" href=https://colab.research.google.com/notebooks/data_table.ipynb>data table notebook</a>'\n",
              "            + ' to learn more about interactive tables.';\n",
              "          element.innerHTML = '';\n",
              "          dataTable['output_type'] = 'display_data';\n",
              "          await google.colab.output.renderOutput(dataTable, element);\n",
              "          const docLink = document.createElement('div');\n",
              "          docLink.innerHTML = docLinkHtml;\n",
              "          element.appendChild(docLink);\n",
              "        }\n",
              "      </script>\n",
              "    </div>\n",
              "  </div>\n",
              "  "
            ],
            "text/plain": [
              "               count          mean           std     min      25%      50%  \\\n",
              "loan_status                                                                  \n",
              "Charged Off   5203.0  63407.712614  47893.247256  4080.0  38400.0  54000.0   \n",
              "Fully Paid   31534.0  70467.031187  66300.230965  4000.0  42000.0  60000.0   \n",
              "\n",
              "                 75%        max  \n",
              "loan_status                      \n",
              "Charged Off  75000.0  1250000.0  \n",
              "Fully Paid   84996.0  6000000.0  "
            ]
          },
          "metadata": {},
          "execution_count": 23
        }
      ]
    },
    {
      "cell_type": "markdown",
      "source": [
        "\n",
        "\n",
        "1.   It can be seen that on average the annual income of defaulters is less that those who paid the loan properly.\n",
        "2.  Also in total almost 75% of those earn 83000 but the max income is 6000000 which is clearly a outlier.\n",
        "\n"
      ],
      "metadata": {
        "id": "wxEtUn1wNW_M"
      }
    },
    {
      "cell_type": "code",
      "source": [
        "clean_Data.groupby('verification_status').annual_inc.describe()\n"
      ],
      "metadata": {
        "colab": {
          "base_uri": "https://localhost:8080/",
          "height": 175
        },
        "id": "85tU4PB1NQg0",
        "outputId": "345003c9-23c3-4ff5-9d4b-577a1fdfecdb"
      },
      "execution_count": 24,
      "outputs": [
        {
          "output_type": "execute_result",
          "data": {
            "text/html": [
              "\n",
              "  <div id=\"df-765ac0d3-3062-455a-8f75-d52ab8a42613\">\n",
              "    <div class=\"colab-df-container\">\n",
              "      <div>\n",
              "<style scoped>\n",
              "    .dataframe tbody tr th:only-of-type {\n",
              "        vertical-align: middle;\n",
              "    }\n",
              "\n",
              "    .dataframe tbody tr th {\n",
              "        vertical-align: top;\n",
              "    }\n",
              "\n",
              "    .dataframe thead th {\n",
              "        text-align: right;\n",
              "    }\n",
              "</style>\n",
              "<table border=\"1\" class=\"dataframe\">\n",
              "  <thead>\n",
              "    <tr style=\"text-align: right;\">\n",
              "      <th></th>\n",
              "      <th>count</th>\n",
              "      <th>mean</th>\n",
              "      <th>std</th>\n",
              "      <th>min</th>\n",
              "      <th>25%</th>\n",
              "      <th>50%</th>\n",
              "      <th>75%</th>\n",
              "      <th>max</th>\n",
              "    </tr>\n",
              "    <tr>\n",
              "      <th>verification_status</th>\n",
              "      <th></th>\n",
              "      <th></th>\n",
              "      <th></th>\n",
              "      <th></th>\n",
              "      <th></th>\n",
              "      <th></th>\n",
              "      <th></th>\n",
              "      <th></th>\n",
              "    </tr>\n",
              "  </thead>\n",
              "  <tbody>\n",
              "    <tr>\n",
              "      <th>Not Verified</th>\n",
              "      <td>15521.0</td>\n",
              "      <td>61297.376598</td>\n",
              "      <td>56322.342746</td>\n",
              "      <td>4000.0</td>\n",
              "      <td>38400.0</td>\n",
              "      <td>53000.0</td>\n",
              "      <td>73073.26</td>\n",
              "      <td>3900000.0</td>\n",
              "    </tr>\n",
              "    <tr>\n",
              "      <th>Source Verified</th>\n",
              "      <td>9470.0</td>\n",
              "      <td>68646.025961</td>\n",
              "      <td>83937.291327</td>\n",
              "      <td>4800.0</td>\n",
              "      <td>40000.0</td>\n",
              "      <td>55000.0</td>\n",
              "      <td>80000.00</td>\n",
              "      <td>6000000.0</td>\n",
              "    </tr>\n",
              "    <tr>\n",
              "      <th>Verified</th>\n",
              "      <td>11746.0</td>\n",
              "      <td>80924.846089</td>\n",
              "      <td>52388.220488</td>\n",
              "      <td>6000.0</td>\n",
              "      <td>50000.0</td>\n",
              "      <td>70000.0</td>\n",
              "      <td>98000.00</td>\n",
              "      <td>1250000.0</td>\n",
              "    </tr>\n",
              "  </tbody>\n",
              "</table>\n",
              "</div>\n",
              "      <button class=\"colab-df-convert\" onclick=\"convertToInteractive('df-765ac0d3-3062-455a-8f75-d52ab8a42613')\"\n",
              "              title=\"Convert this dataframe to an interactive table.\"\n",
              "              style=\"display:none;\">\n",
              "        \n",
              "  <svg xmlns=\"http://www.w3.org/2000/svg\" height=\"24px\"viewBox=\"0 0 24 24\"\n",
              "       width=\"24px\">\n",
              "    <path d=\"M0 0h24v24H0V0z\" fill=\"none\"/>\n",
              "    <path d=\"M18.56 5.44l.94 2.06.94-2.06 2.06-.94-2.06-.94-.94-2.06-.94 2.06-2.06.94zm-11 1L8.5 8.5l.94-2.06 2.06-.94-2.06-.94L8.5 2.5l-.94 2.06-2.06.94zm10 10l.94 2.06.94-2.06 2.06-.94-2.06-.94-.94-2.06-.94 2.06-2.06.94z\"/><path d=\"M17.41 7.96l-1.37-1.37c-.4-.4-.92-.59-1.43-.59-.52 0-1.04.2-1.43.59L10.3 9.45l-7.72 7.72c-.78.78-.78 2.05 0 2.83L4 21.41c.39.39.9.59 1.41.59.51 0 1.02-.2 1.41-.59l7.78-7.78 2.81-2.81c.8-.78.8-2.07 0-2.86zM5.41 20L4 18.59l7.72-7.72 1.47 1.35L5.41 20z\"/>\n",
              "  </svg>\n",
              "      </button>\n",
              "      \n",
              "  <style>\n",
              "    .colab-df-container {\n",
              "      display:flex;\n",
              "      flex-wrap:wrap;\n",
              "      gap: 12px;\n",
              "    }\n",
              "\n",
              "    .colab-df-convert {\n",
              "      background-color: #E8F0FE;\n",
              "      border: none;\n",
              "      border-radius: 50%;\n",
              "      cursor: pointer;\n",
              "      display: none;\n",
              "      fill: #1967D2;\n",
              "      height: 32px;\n",
              "      padding: 0 0 0 0;\n",
              "      width: 32px;\n",
              "    }\n",
              "\n",
              "    .colab-df-convert:hover {\n",
              "      background-color: #E2EBFA;\n",
              "      box-shadow: 0px 1px 2px rgba(60, 64, 67, 0.3), 0px 1px 3px 1px rgba(60, 64, 67, 0.15);\n",
              "      fill: #174EA6;\n",
              "    }\n",
              "\n",
              "    [theme=dark] .colab-df-convert {\n",
              "      background-color: #3B4455;\n",
              "      fill: #D2E3FC;\n",
              "    }\n",
              "\n",
              "    [theme=dark] .colab-df-convert:hover {\n",
              "      background-color: #434B5C;\n",
              "      box-shadow: 0px 1px 3px 1px rgba(0, 0, 0, 0.15);\n",
              "      filter: drop-shadow(0px 1px 2px rgba(0, 0, 0, 0.3));\n",
              "      fill: #FFFFFF;\n",
              "    }\n",
              "  </style>\n",
              "\n",
              "      <script>\n",
              "        const buttonEl =\n",
              "          document.querySelector('#df-765ac0d3-3062-455a-8f75-d52ab8a42613 button.colab-df-convert');\n",
              "        buttonEl.style.display =\n",
              "          google.colab.kernel.accessAllowed ? 'block' : 'none';\n",
              "\n",
              "        async function convertToInteractive(key) {\n",
              "          const element = document.querySelector('#df-765ac0d3-3062-455a-8f75-d52ab8a42613');\n",
              "          const dataTable =\n",
              "            await google.colab.kernel.invokeFunction('convertToInteractive',\n",
              "                                                     [key], {});\n",
              "          if (!dataTable) return;\n",
              "\n",
              "          const docLinkHtml = 'Like what you see? Visit the ' +\n",
              "            '<a target=\"_blank\" href=https://colab.research.google.com/notebooks/data_table.ipynb>data table notebook</a>'\n",
              "            + ' to learn more about interactive tables.';\n",
              "          element.innerHTML = '';\n",
              "          dataTable['output_type'] = 'display_data';\n",
              "          await google.colab.output.renderOutput(dataTable, element);\n",
              "          const docLink = document.createElement('div');\n",
              "          docLink.innerHTML = docLinkHtml;\n",
              "          element.appendChild(docLink);\n",
              "        }\n",
              "      </script>\n",
              "    </div>\n",
              "  </div>\n",
              "  "
            ],
            "text/plain": [
              "                       count          mean           std     min      25%  \\\n",
              "verification_status                                                         \n",
              "Not Verified         15521.0  61297.376598  56322.342746  4000.0  38400.0   \n",
              "Source Verified       9470.0  68646.025961  83937.291327  4800.0  40000.0   \n",
              "Verified             11746.0  80924.846089  52388.220488  6000.0  50000.0   \n",
              "\n",
              "                         50%       75%        max  \n",
              "verification_status                                \n",
              "Not Verified         53000.0  73073.26  3900000.0  \n",
              "Source Verified      55000.0  80000.00  6000000.0  \n",
              "Verified             70000.0  98000.00  1250000.0  "
            ]
          },
          "metadata": {},
          "execution_count": 24
        }
      ]
    },
    {
      "cell_type": "code",
      "source": [
        "clean_Data.groupby('verification_status').loan_status.value_counts()\n"
      ],
      "metadata": {
        "colab": {
          "base_uri": "https://localhost:8080/"
        },
        "id": "11Cyn5d3Ne2u",
        "outputId": "6c506034-c29f-460f-bdbb-259114ccbbd9"
      },
      "execution_count": 25,
      "outputs": [
        {
          "output_type": "execute_result",
          "data": {
            "text/plain": [
              "verification_status  loan_status\n",
              "Not Verified         Fully Paid     13630\n",
              "                     Charged Off     1891\n",
              "Source Verified      Fully Paid      8090\n",
              "                     Charged Off     1380\n",
              "Verified             Fully Paid      9814\n",
              "                     Charged Off     1932\n",
              "Name: loan_status, dtype: int64"
            ]
          },
          "metadata": {},
          "execution_count": 25
        }
      ]
    },
    {
      "cell_type": "markdown",
      "source": [
        "\n",
        "\n",
        "1.   It can be seen that the not verified category as the least annual income in average\n",
        "2.   But on analysing the other parameters it can be seen that verfication status doesnt depend on the loan status\n",
        "\n"
      ],
      "metadata": {
        "id": "apcBI8D6NlR_"
      }
    },
    {
      "cell_type": "code",
      "source": [
        "clean_Data.groupby('purpose').loan_status.value_counts()\n"
      ],
      "metadata": {
        "colab": {
          "base_uri": "https://localhost:8080/"
        },
        "id": "AcyYi21yNhed",
        "outputId": "8bce8bfa-a9b9-4c92-b6e9-d6c8f9b28d6a"
      },
      "execution_count": 26,
      "outputs": [
        {
          "output_type": "execute_result",
          "data": {
            "text/plain": [
              "purpose             loan_status\n",
              "car                 Fully Paid      1278\n",
              "                    Charged Off      151\n",
              "credit_card         Fully Paid      4298\n",
              "                    Charged Off      499\n",
              "debt_consolidation  Fully Paid     14750\n",
              "                    Charged Off     2596\n",
              "educational         Fully Paid       247\n",
              "                    Charged Off       47\n",
              "home_improvement    Fully Paid      2415\n",
              "                    Charged Off      316\n",
              "house               Fully Paid       291\n",
              "                    Charged Off       56\n",
              "major_purchase      Fully Paid      1849\n",
              "                    Charged Off      201\n",
              "medical             Fully Paid       546\n",
              "                    Charged Off       99\n",
              "moving              Fully Paid       460\n",
              "                    Charged Off       81\n",
              "other               Fully Paid      3017\n",
              "                    Charged Off      571\n",
              "renewable_energy    Fully Paid        76\n",
              "                    Charged Off       17\n",
              "small_business      Fully Paid      1212\n",
              "                    Charged Off      436\n",
              "vacation            Fully Paid       291\n",
              "                    Charged Off       50\n",
              "wedding             Fully Paid       804\n",
              "                    Charged Off       83\n",
              "Name: loan_status, dtype: int64"
            ]
          },
          "metadata": {},
          "execution_count": 26
        }
      ]
    },
    {
      "cell_type": "code",
      "source": [
        "clean_Data['purpose'].value_counts()"
      ],
      "metadata": {
        "colab": {
          "base_uri": "https://localhost:8080/"
        },
        "id": "nvEAEtZuNuTw",
        "outputId": "db1f7698-1f44-4e5f-d981-a737ad1f6c79"
      },
      "execution_count": 27,
      "outputs": [
        {
          "output_type": "execute_result",
          "data": {
            "text/plain": [
              "debt_consolidation    17346\n",
              "credit_card            4797\n",
              "other                  3588\n",
              "home_improvement       2731\n",
              "major_purchase         2050\n",
              "small_business         1648\n",
              "car                    1429\n",
              "wedding                 887\n",
              "medical                 645\n",
              "moving                  541\n",
              "house                   347\n",
              "vacation                341\n",
              "educational             294\n",
              "renewable_energy         93\n",
              "Name: purpose, dtype: int64"
            ]
          },
          "metadata": {},
          "execution_count": 27
        }
      ]
    },
    {
      "cell_type": "markdown",
      "source": [
        "\n",
        "\n",
        "1. It can be seen that most % of charged of loans is under small_business category\n",
        "\n"
      ],
      "metadata": {
        "id": "iymdHtSaN7iX"
      }
    },
    {
      "cell_type": "code",
      "source": [
        "clean_Data.groupby('purpose').int_rate.describe()\n"
      ],
      "metadata": {
        "colab": {
          "base_uri": "https://localhost:8080/",
          "height": 520
        },
        "id": "guHe9eYPN65x",
        "outputId": "1d6967fb-f42e-4a08-aaf5-09177535a046"
      },
      "execution_count": 28,
      "outputs": [
        {
          "output_type": "execute_result",
          "data": {
            "text/html": [
              "\n",
              "  <div id=\"df-4f6e2cab-5be0-4c85-bb07-52e0da888c55\">\n",
              "    <div class=\"colab-df-container\">\n",
              "      <div>\n",
              "<style scoped>\n",
              "    .dataframe tbody tr th:only-of-type {\n",
              "        vertical-align: middle;\n",
              "    }\n",
              "\n",
              "    .dataframe tbody tr th {\n",
              "        vertical-align: top;\n",
              "    }\n",
              "\n",
              "    .dataframe thead th {\n",
              "        text-align: right;\n",
              "    }\n",
              "</style>\n",
              "<table border=\"1\" class=\"dataframe\">\n",
              "  <thead>\n",
              "    <tr style=\"text-align: right;\">\n",
              "      <th></th>\n",
              "      <th>count</th>\n",
              "      <th>mean</th>\n",
              "      <th>std</th>\n",
              "      <th>min</th>\n",
              "      <th>25%</th>\n",
              "      <th>50%</th>\n",
              "      <th>75%</th>\n",
              "      <th>max</th>\n",
              "    </tr>\n",
              "    <tr>\n",
              "      <th>purpose</th>\n",
              "      <th></th>\n",
              "      <th></th>\n",
              "      <th></th>\n",
              "      <th></th>\n",
              "      <th></th>\n",
              "      <th></th>\n",
              "      <th></th>\n",
              "      <th></th>\n",
              "    </tr>\n",
              "  </thead>\n",
              "  <tbody>\n",
              "    <tr>\n",
              "      <th>car</th>\n",
              "      <td>1429.0</td>\n",
              "      <td>10.522554</td>\n",
              "      <td>3.399640</td>\n",
              "      <td>5.42</td>\n",
              "      <td>7.5100</td>\n",
              "      <td>10.37</td>\n",
              "      <td>13.06</td>\n",
              "      <td>22.85</td>\n",
              "    </tr>\n",
              "    <tr>\n",
              "      <th>credit_card</th>\n",
              "      <td>4797.0</td>\n",
              "      <td>11.670655</td>\n",
              "      <td>3.529273</td>\n",
              "      <td>5.42</td>\n",
              "      <td>8.9000</td>\n",
              "      <td>11.49</td>\n",
              "      <td>13.92</td>\n",
              "      <td>24.11</td>\n",
              "    </tr>\n",
              "    <tr>\n",
              "      <th>debt_consolidation</th>\n",
              "      <td>17346.0</td>\n",
              "      <td>12.430336</td>\n",
              "      <td>3.717100</td>\n",
              "      <td>5.42</td>\n",
              "      <td>9.9900</td>\n",
              "      <td>12.42</td>\n",
              "      <td>14.96</td>\n",
              "      <td>24.11</td>\n",
              "    </tr>\n",
              "    <tr>\n",
              "      <th>educational</th>\n",
              "      <td>294.0</td>\n",
              "      <td>11.753844</td>\n",
              "      <td>2.519069</td>\n",
              "      <td>6.00</td>\n",
              "      <td>9.6625</td>\n",
              "      <td>11.89</td>\n",
              "      <td>13.23</td>\n",
              "      <td>21.27</td>\n",
              "    </tr>\n",
              "    <tr>\n",
              "      <th>home_improvement</th>\n",
              "      <td>2731.0</td>\n",
              "      <td>11.310663</td>\n",
              "      <td>3.748933</td>\n",
              "      <td>5.42</td>\n",
              "      <td>7.8800</td>\n",
              "      <td>11.11</td>\n",
              "      <td>13.80</td>\n",
              "      <td>23.22</td>\n",
              "    </tr>\n",
              "    <tr>\n",
              "      <th>house</th>\n",
              "      <td>347.0</td>\n",
              "      <td>12.354841</td>\n",
              "      <td>3.949184</td>\n",
              "      <td>5.42</td>\n",
              "      <td>9.6200</td>\n",
              "      <td>11.99</td>\n",
              "      <td>15.30</td>\n",
              "      <td>23.13</td>\n",
              "    </tr>\n",
              "    <tr>\n",
              "      <th>major_purchase</th>\n",
              "      <td>2050.0</td>\n",
              "      <td>10.817941</td>\n",
              "      <td>3.585787</td>\n",
              "      <td>5.42</td>\n",
              "      <td>7.5100</td>\n",
              "      <td>10.75</td>\n",
              "      <td>13.48</td>\n",
              "      <td>23.59</td>\n",
              "    </tr>\n",
              "    <tr>\n",
              "      <th>medical</th>\n",
              "      <td>645.0</td>\n",
              "      <td>11.526310</td>\n",
              "      <td>3.652116</td>\n",
              "      <td>5.42</td>\n",
              "      <td>8.0000</td>\n",
              "      <td>11.48</td>\n",
              "      <td>14.17</td>\n",
              "      <td>22.06</td>\n",
              "    </tr>\n",
              "    <tr>\n",
              "      <th>moving</th>\n",
              "      <td>541.0</td>\n",
              "      <td>11.576174</td>\n",
              "      <td>3.560174</td>\n",
              "      <td>5.42</td>\n",
              "      <td>8.4900</td>\n",
              "      <td>11.36</td>\n",
              "      <td>13.98</td>\n",
              "      <td>22.11</td>\n",
              "    </tr>\n",
              "    <tr>\n",
              "      <th>other</th>\n",
              "      <td>3588.0</td>\n",
              "      <td>11.801416</td>\n",
              "      <td>3.518198</td>\n",
              "      <td>5.42</td>\n",
              "      <td>8.9400</td>\n",
              "      <td>11.71</td>\n",
              "      <td>14.11</td>\n",
              "      <td>23.91</td>\n",
              "    </tr>\n",
              "    <tr>\n",
              "      <th>renewable_energy</th>\n",
              "      <td>93.0</td>\n",
              "      <td>11.496344</td>\n",
              "      <td>3.975529</td>\n",
              "      <td>5.42</td>\n",
              "      <td>7.9000</td>\n",
              "      <td>11.11</td>\n",
              "      <td>13.85</td>\n",
              "      <td>24.40</td>\n",
              "    </tr>\n",
              "    <tr>\n",
              "      <th>small_business</th>\n",
              "      <td>1648.0</td>\n",
              "      <td>12.975795</td>\n",
              "      <td>3.928783</td>\n",
              "      <td>5.42</td>\n",
              "      <td>10.3600</td>\n",
              "      <td>12.99</td>\n",
              "      <td>15.95</td>\n",
              "      <td>23.52</td>\n",
              "    </tr>\n",
              "    <tr>\n",
              "      <th>vacation</th>\n",
              "      <td>341.0</td>\n",
              "      <td>10.875865</td>\n",
              "      <td>3.502875</td>\n",
              "      <td>5.42</td>\n",
              "      <td>7.6600</td>\n",
              "      <td>10.74</td>\n",
              "      <td>13.43</td>\n",
              "      <td>22.48</td>\n",
              "    </tr>\n",
              "    <tr>\n",
              "      <th>wedding</th>\n",
              "      <td>887.0</td>\n",
              "      <td>11.813732</td>\n",
              "      <td>3.520357</td>\n",
              "      <td>5.42</td>\n",
              "      <td>8.9400</td>\n",
              "      <td>11.71</td>\n",
              "      <td>14.26</td>\n",
              "      <td>23.59</td>\n",
              "    </tr>\n",
              "  </tbody>\n",
              "</table>\n",
              "</div>\n",
              "      <button class=\"colab-df-convert\" onclick=\"convertToInteractive('df-4f6e2cab-5be0-4c85-bb07-52e0da888c55')\"\n",
              "              title=\"Convert this dataframe to an interactive table.\"\n",
              "              style=\"display:none;\">\n",
              "        \n",
              "  <svg xmlns=\"http://www.w3.org/2000/svg\" height=\"24px\"viewBox=\"0 0 24 24\"\n",
              "       width=\"24px\">\n",
              "    <path d=\"M0 0h24v24H0V0z\" fill=\"none\"/>\n",
              "    <path d=\"M18.56 5.44l.94 2.06.94-2.06 2.06-.94-2.06-.94-.94-2.06-.94 2.06-2.06.94zm-11 1L8.5 8.5l.94-2.06 2.06-.94-2.06-.94L8.5 2.5l-.94 2.06-2.06.94zm10 10l.94 2.06.94-2.06 2.06-.94-2.06-.94-.94-2.06-.94 2.06-2.06.94z\"/><path d=\"M17.41 7.96l-1.37-1.37c-.4-.4-.92-.59-1.43-.59-.52 0-1.04.2-1.43.59L10.3 9.45l-7.72 7.72c-.78.78-.78 2.05 0 2.83L4 21.41c.39.39.9.59 1.41.59.51 0 1.02-.2 1.41-.59l7.78-7.78 2.81-2.81c.8-.78.8-2.07 0-2.86zM5.41 20L4 18.59l7.72-7.72 1.47 1.35L5.41 20z\"/>\n",
              "  </svg>\n",
              "      </button>\n",
              "      \n",
              "  <style>\n",
              "    .colab-df-container {\n",
              "      display:flex;\n",
              "      flex-wrap:wrap;\n",
              "      gap: 12px;\n",
              "    }\n",
              "\n",
              "    .colab-df-convert {\n",
              "      background-color: #E8F0FE;\n",
              "      border: none;\n",
              "      border-radius: 50%;\n",
              "      cursor: pointer;\n",
              "      display: none;\n",
              "      fill: #1967D2;\n",
              "      height: 32px;\n",
              "      padding: 0 0 0 0;\n",
              "      width: 32px;\n",
              "    }\n",
              "\n",
              "    .colab-df-convert:hover {\n",
              "      background-color: #E2EBFA;\n",
              "      box-shadow: 0px 1px 2px rgba(60, 64, 67, 0.3), 0px 1px 3px 1px rgba(60, 64, 67, 0.15);\n",
              "      fill: #174EA6;\n",
              "    }\n",
              "\n",
              "    [theme=dark] .colab-df-convert {\n",
              "      background-color: #3B4455;\n",
              "      fill: #D2E3FC;\n",
              "    }\n",
              "\n",
              "    [theme=dark] .colab-df-convert:hover {\n",
              "      background-color: #434B5C;\n",
              "      box-shadow: 0px 1px 3px 1px rgba(0, 0, 0, 0.15);\n",
              "      filter: drop-shadow(0px 1px 2px rgba(0, 0, 0, 0.3));\n",
              "      fill: #FFFFFF;\n",
              "    }\n",
              "  </style>\n",
              "\n",
              "      <script>\n",
              "        const buttonEl =\n",
              "          document.querySelector('#df-4f6e2cab-5be0-4c85-bb07-52e0da888c55 button.colab-df-convert');\n",
              "        buttonEl.style.display =\n",
              "          google.colab.kernel.accessAllowed ? 'block' : 'none';\n",
              "\n",
              "        async function convertToInteractive(key) {\n",
              "          const element = document.querySelector('#df-4f6e2cab-5be0-4c85-bb07-52e0da888c55');\n",
              "          const dataTable =\n",
              "            await google.colab.kernel.invokeFunction('convertToInteractive',\n",
              "                                                     [key], {});\n",
              "          if (!dataTable) return;\n",
              "\n",
              "          const docLinkHtml = 'Like what you see? Visit the ' +\n",
              "            '<a target=\"_blank\" href=https://colab.research.google.com/notebooks/data_table.ipynb>data table notebook</a>'\n",
              "            + ' to learn more about interactive tables.';\n",
              "          element.innerHTML = '';\n",
              "          dataTable['output_type'] = 'display_data';\n",
              "          await google.colab.output.renderOutput(dataTable, element);\n",
              "          const docLink = document.createElement('div');\n",
              "          docLink.innerHTML = docLinkHtml;\n",
              "          element.appendChild(docLink);\n",
              "        }\n",
              "      </script>\n",
              "    </div>\n",
              "  </div>\n",
              "  "
            ],
            "text/plain": [
              "                      count       mean       std   min      25%    50%    75%  \\\n",
              "purpose                                                                         \n",
              "car                  1429.0  10.522554  3.399640  5.42   7.5100  10.37  13.06   \n",
              "credit_card          4797.0  11.670655  3.529273  5.42   8.9000  11.49  13.92   \n",
              "debt_consolidation  17346.0  12.430336  3.717100  5.42   9.9900  12.42  14.96   \n",
              "educational           294.0  11.753844  2.519069  6.00   9.6625  11.89  13.23   \n",
              "home_improvement     2731.0  11.310663  3.748933  5.42   7.8800  11.11  13.80   \n",
              "house                 347.0  12.354841  3.949184  5.42   9.6200  11.99  15.30   \n",
              "major_purchase       2050.0  10.817941  3.585787  5.42   7.5100  10.75  13.48   \n",
              "medical               645.0  11.526310  3.652116  5.42   8.0000  11.48  14.17   \n",
              "moving                541.0  11.576174  3.560174  5.42   8.4900  11.36  13.98   \n",
              "other                3588.0  11.801416  3.518198  5.42   8.9400  11.71  14.11   \n",
              "renewable_energy       93.0  11.496344  3.975529  5.42   7.9000  11.11  13.85   \n",
              "small_business       1648.0  12.975795  3.928783  5.42  10.3600  12.99  15.95   \n",
              "vacation              341.0  10.875865  3.502875  5.42   7.6600  10.74  13.43   \n",
              "wedding               887.0  11.813732  3.520357  5.42   8.9400  11.71  14.26   \n",
              "\n",
              "                      max  \n",
              "purpose                    \n",
              "car                 22.85  \n",
              "credit_card         24.11  \n",
              "debt_consolidation  24.11  \n",
              "educational         21.27  \n",
              "home_improvement    23.22  \n",
              "house               23.13  \n",
              "major_purchase      23.59  \n",
              "medical             22.06  \n",
              "moving              22.11  \n",
              "other               23.91  \n",
              "renewable_energy    24.40  \n",
              "small_business      23.52  \n",
              "vacation            22.48  \n",
              "wedding             23.59  "
            ]
          },
          "metadata": {},
          "execution_count": 28
        }
      ]
    },
    {
      "cell_type": "markdown",
      "source": [
        "It can be seen that maximum interest rate is applied to small buisness and the least rate to car and major purchase"
      ],
      "metadata": {
        "id": "G0bgP19nOOT_"
      }
    },
    {
      "cell_type": "code",
      "source": [
        "clean_Data.groupby('loan_status')['int_rate'].describe()\n"
      ],
      "metadata": {
        "colab": {
          "base_uri": "https://localhost:8080/",
          "height": 143
        },
        "id": "9zh35WYUNz9b",
        "outputId": "29048557-2482-4b28-9b6e-62ff5ebda425"
      },
      "execution_count": 29,
      "outputs": [
        {
          "output_type": "execute_result",
          "data": {
            "text/html": [
              "\n",
              "  <div id=\"df-5595be96-371f-4120-aea1-1849d17bde68\">\n",
              "    <div class=\"colab-df-container\">\n",
              "      <div>\n",
              "<style scoped>\n",
              "    .dataframe tbody tr th:only-of-type {\n",
              "        vertical-align: middle;\n",
              "    }\n",
              "\n",
              "    .dataframe tbody tr th {\n",
              "        vertical-align: top;\n",
              "    }\n",
              "\n",
              "    .dataframe thead th {\n",
              "        text-align: right;\n",
              "    }\n",
              "</style>\n",
              "<table border=\"1\" class=\"dataframe\">\n",
              "  <thead>\n",
              "    <tr style=\"text-align: right;\">\n",
              "      <th></th>\n",
              "      <th>count</th>\n",
              "      <th>mean</th>\n",
              "      <th>std</th>\n",
              "      <th>min</th>\n",
              "      <th>25%</th>\n",
              "      <th>50%</th>\n",
              "      <th>75%</th>\n",
              "      <th>max</th>\n",
              "    </tr>\n",
              "    <tr>\n",
              "      <th>loan_status</th>\n",
              "      <th></th>\n",
              "      <th></th>\n",
              "      <th></th>\n",
              "      <th></th>\n",
              "      <th></th>\n",
              "      <th></th>\n",
              "      <th></th>\n",
              "      <th></th>\n",
              "    </tr>\n",
              "  </thead>\n",
              "  <tbody>\n",
              "    <tr>\n",
              "      <th>Charged Off</th>\n",
              "      <td>5203.0</td>\n",
              "      <td>13.925681</td>\n",
              "      <td>3.656808</td>\n",
              "      <td>5.42</td>\n",
              "      <td>11.49</td>\n",
              "      <td>13.79</td>\n",
              "      <td>16.45</td>\n",
              "      <td>24.40</td>\n",
              "    </tr>\n",
              "    <tr>\n",
              "      <th>Fully Paid</th>\n",
              "      <td>31534.0</td>\n",
              "      <td>11.659557</td>\n",
              "      <td>3.609064</td>\n",
              "      <td>5.42</td>\n",
              "      <td>8.59</td>\n",
              "      <td>11.49</td>\n",
              "      <td>13.99</td>\n",
              "      <td>24.11</td>\n",
              "    </tr>\n",
              "  </tbody>\n",
              "</table>\n",
              "</div>\n",
              "      <button class=\"colab-df-convert\" onclick=\"convertToInteractive('df-5595be96-371f-4120-aea1-1849d17bde68')\"\n",
              "              title=\"Convert this dataframe to an interactive table.\"\n",
              "              style=\"display:none;\">\n",
              "        \n",
              "  <svg xmlns=\"http://www.w3.org/2000/svg\" height=\"24px\"viewBox=\"0 0 24 24\"\n",
              "       width=\"24px\">\n",
              "    <path d=\"M0 0h24v24H0V0z\" fill=\"none\"/>\n",
              "    <path d=\"M18.56 5.44l.94 2.06.94-2.06 2.06-.94-2.06-.94-.94-2.06-.94 2.06-2.06.94zm-11 1L8.5 8.5l.94-2.06 2.06-.94-2.06-.94L8.5 2.5l-.94 2.06-2.06.94zm10 10l.94 2.06.94-2.06 2.06-.94-2.06-.94-.94-2.06-.94 2.06-2.06.94z\"/><path d=\"M17.41 7.96l-1.37-1.37c-.4-.4-.92-.59-1.43-.59-.52 0-1.04.2-1.43.59L10.3 9.45l-7.72 7.72c-.78.78-.78 2.05 0 2.83L4 21.41c.39.39.9.59 1.41.59.51 0 1.02-.2 1.41-.59l7.78-7.78 2.81-2.81c.8-.78.8-2.07 0-2.86zM5.41 20L4 18.59l7.72-7.72 1.47 1.35L5.41 20z\"/>\n",
              "  </svg>\n",
              "      </button>\n",
              "      \n",
              "  <style>\n",
              "    .colab-df-container {\n",
              "      display:flex;\n",
              "      flex-wrap:wrap;\n",
              "      gap: 12px;\n",
              "    }\n",
              "\n",
              "    .colab-df-convert {\n",
              "      background-color: #E8F0FE;\n",
              "      border: none;\n",
              "      border-radius: 50%;\n",
              "      cursor: pointer;\n",
              "      display: none;\n",
              "      fill: #1967D2;\n",
              "      height: 32px;\n",
              "      padding: 0 0 0 0;\n",
              "      width: 32px;\n",
              "    }\n",
              "\n",
              "    .colab-df-convert:hover {\n",
              "      background-color: #E2EBFA;\n",
              "      box-shadow: 0px 1px 2px rgba(60, 64, 67, 0.3), 0px 1px 3px 1px rgba(60, 64, 67, 0.15);\n",
              "      fill: #174EA6;\n",
              "    }\n",
              "\n",
              "    [theme=dark] .colab-df-convert {\n",
              "      background-color: #3B4455;\n",
              "      fill: #D2E3FC;\n",
              "    }\n",
              "\n",
              "    [theme=dark] .colab-df-convert:hover {\n",
              "      background-color: #434B5C;\n",
              "      box-shadow: 0px 1px 3px 1px rgba(0, 0, 0, 0.15);\n",
              "      filter: drop-shadow(0px 1px 2px rgba(0, 0, 0, 0.3));\n",
              "      fill: #FFFFFF;\n",
              "    }\n",
              "  </style>\n",
              "\n",
              "      <script>\n",
              "        const buttonEl =\n",
              "          document.querySelector('#df-5595be96-371f-4120-aea1-1849d17bde68 button.colab-df-convert');\n",
              "        buttonEl.style.display =\n",
              "          google.colab.kernel.accessAllowed ? 'block' : 'none';\n",
              "\n",
              "        async function convertToInteractive(key) {\n",
              "          const element = document.querySelector('#df-5595be96-371f-4120-aea1-1849d17bde68');\n",
              "          const dataTable =\n",
              "            await google.colab.kernel.invokeFunction('convertToInteractive',\n",
              "                                                     [key], {});\n",
              "          if (!dataTable) return;\n",
              "\n",
              "          const docLinkHtml = 'Like what you see? Visit the ' +\n",
              "            '<a target=\"_blank\" href=https://colab.research.google.com/notebooks/data_table.ipynb>data table notebook</a>'\n",
              "            + ' to learn more about interactive tables.';\n",
              "          element.innerHTML = '';\n",
              "          dataTable['output_type'] = 'display_data';\n",
              "          await google.colab.output.renderOutput(dataTable, element);\n",
              "          const docLink = document.createElement('div');\n",
              "          docLink.innerHTML = docLinkHtml;\n",
              "          element.appendChild(docLink);\n",
              "        }\n",
              "      </script>\n",
              "    </div>\n",
              "  </div>\n",
              "  "
            ],
            "text/plain": [
              "               count       mean       std   min    25%    50%    75%    max\n",
              "loan_status                                                                \n",
              "Charged Off   5203.0  13.925681  3.656808  5.42  11.49  13.79  16.45  24.40\n",
              "Fully Paid   31534.0  11.659557  3.609064  5.42   8.59  11.49  13.99  24.11"
            ]
          },
          "metadata": {},
          "execution_count": 29
        }
      ]
    },
    {
      "cell_type": "markdown",
      "source": [
        "The interest rate for the charged off is higher than the fully paid people."
      ],
      "metadata": {
        "id": "RDi3Bny6OWVQ"
      }
    },
    {
      "cell_type": "code",
      "source": [
        "sns.countplot(x=clean_Data['grade'],hue=clean_Data['loan_status'])\n"
      ],
      "metadata": {
        "colab": {
          "base_uri": "https://localhost:8080/",
          "height": 296
        },
        "id": "7vKousoTOVcL",
        "outputId": "0921a9a7-aff1-4bdd-e58c-a2aa2ab39ae7"
      },
      "execution_count": 30,
      "outputs": [
        {
          "output_type": "execute_result",
          "data": {
            "text/plain": [
              "<matplotlib.axes._subplots.AxesSubplot at 0x7efcb1899cd0>"
            ]
          },
          "metadata": {},
          "execution_count": 30
        },
        {
          "output_type": "display_data",
          "data": {
            "image/png": "[encoded data removed]",
            "text/plain": [
              "<Figure size 432x288 with 1 Axes>"
            ]
          },
          "metadata": {
            "needs_background": "light"
          }
        }
      ]
    },
    {
      "cell_type": "markdown",
      "source": [
        "It can be seen that the grades A,B,C have got more number of loans"
      ],
      "metadata": {
        "id": "wkyQtrTYQ_x1"
      }
    },
    {
      "cell_type": "code",
      "source": [
        "sns.barplot(data=clean_Data,x='emp_length',y='loan_amnt',hue='loan_status',ci=0,estimator=np.median)\n"
      ],
      "metadata": {
        "colab": {
          "base_uri": "https://localhost:8080/",
          "height": 297
        },
        "id": "cpDC5DeqQwIP",
        "outputId": "2e51b4ce-8798-43a0-995d-7b7331b0f901"
      },
      "execution_count": 31,
      "outputs": [
        {
          "output_type": "execute_result",
          "data": {
            "text/plain": [
              "<matplotlib.axes._subplots.AxesSubplot at 0x7efcb196b390>"
            ]
          },
          "metadata": {},
          "execution_count": 31
        },
        {
          "output_type": "display_data",
          "data": {
            "image/png": "[encoded data removed]",
            "text/plain": [
              "<Figure size 432x288 with 1 Axes>"
            ]
          },
          "metadata": {
            "needs_background": "light"
          }
        }
      ]
    },
    {
      "cell_type": "markdown",
      "source": [
        "It can we seen that greater the work experience greater is the loan amount and also low risk"
      ],
      "metadata": {
        "id": "xfObIVOiRaBC"
      }
    },
    {
      "cell_type": "code",
      "source": [
        "sns.countplot(data=clean_Data,x='issue_d_month',hue='loan_status')\n"
      ],
      "metadata": {
        "colab": {
          "base_uri": "https://localhost:8080/",
          "height": 297
        },
        "id": "V_dsEAD_RXT5",
        "outputId": "d8392157-17fe-4edc-892e-fe65d61f5018"
      },
      "execution_count": 34,
      "outputs": [
        {
          "output_type": "execute_result",
          "data": {
            "text/plain": [
              "<matplotlib.axes._subplots.AxesSubplot at 0x7efcb102a0d0>"
            ]
          },
          "metadata": {},
          "execution_count": 34
        },
        {
          "output_type": "display_data",
          "data": {
            "image/png": "[encoded data removed]",
            "text/plain": [
              "<Figure size 432x288 with 1 Axes>"
            ]
          },
          "metadata": {
            "needs_background": "light"
          }
        }
      ]
    },
    {
      "cell_type": "markdown",
      "source": [
        "It can be seen that most loan was acquire in the later part of the year, may be due to the expenses planned for the next year"
      ],
      "metadata": {
        "id": "QUBFcYhTSNVl"
      }
    },
    {
      "cell_type": "code",
      "source": [
        "sns.scatterplot(data=clean_Data,x=clean_Data['installment'],y='funded_amnt',hue='loan_status')\n"
      ],
      "metadata": {
        "colab": {
          "base_uri": "https://localhost:8080/",
          "height": 296
        },
        "id": "j8PS9nW7R8Qx",
        "outputId": "4b572235-f654-4215-cd7d-260be82cecde"
      },
      "execution_count": 35,
      "outputs": [
        {
          "output_type": "execute_result",
          "data": {
            "text/plain": [
              "<matplotlib.axes._subplots.AxesSubplot at 0x7efcb0ed1090>"
            ]
          },
          "metadata": {},
          "execution_count": 35
        },
        {
          "output_type": "display_data",
          "data": {
            "image/png": "[encoded data removed]",
            "text/plain": [
              "<Figure size 432x288 with 1 Axes>"
            ]
          },
          "metadata": {
            "needs_background": "light"
          }
        }
      ]
    },
    {
      "cell_type": "markdown",
      "source": [
        "It is obvious that greater the funded amount more is the number of installments"
      ],
      "metadata": {
        "id": "8MFK1g1eTX7-"
      }
    },
    {
      "cell_type": "code",
      "source": [
        ""
      ],
      "metadata": {
        "id": "amxGEiz6TUqg"
      },
      "execution_count": null,
      "outputs": []
    }
  ]
}
